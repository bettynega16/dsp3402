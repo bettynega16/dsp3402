{
 "cells": [
  {
   "cell_type": "markdown",
   "metadata": {},
   "source": [
    "# Lab 4- Object Oriented Programming\n",
    "\n",
    "For all of the exercises below, make sure you provide tests of your solutions.\n"
   ]
  },
  {
   "cell_type": "markdown",
   "metadata": {},
   "source": [
    "1. Write a \"counter\" class that can be incremented up to a specified maximum value, will print an error if an attempt is made to increment beyond that value, and allows reseting the counter. "
   ]
  },
  {
   "cell_type": "code",
   "execution_count": 12,
   "metadata": {},
   "outputs": [],
   "source": [
    "class Counter():\n",
    "    def __init__(self, max_value):\n",
    "        self.max_value = max_value \n",
    "        self.value = 0\n",
    "        \n",
    "    def increment (self):\n",
    "        if self.value < self.max_value:\n",
    "            self.value +=1\n",
    "            print (\"Incremented. Value is now:\", self.value)\n",
    "        else:\n",
    "            print (\"Counter cannot be incremented beyond the maximum value.\")\n",
    "    def rest(self):\n",
    "        self.value = 0 "
   ]
  },
  {
   "cell_type": "code",
   "execution_count": 22,
   "metadata": {},
   "outputs": [
    {
     "name": "stdout",
     "output_type": "stream",
     "text": [
      "Incremented. Value is now: 1\n",
      "Incremented. Value is now: 2\n",
      "Incremented. Value is now: 3\n",
      "Incremented. Value is now: 4\n",
      "Incremented. Value is now: 5\n",
      "Counter cannot be incremented beyond the maximum value.\n",
      "Incremented. Value is now: 1\n"
     ]
    }
   ],
   "source": [
    "my_counter = Counter(5)\n",
    "\n",
    "my_counter.increment()\n",
    "my_counter.increment()\n",
    "my_counter.increment()\n",
    "my_counter.increment()\n",
    "my_counter.increment()\n",
    "my_counter.increment()\n",
    "my_counter.rest()\n",
    "my_counter.increment()"
   ]
  },
  {
   "cell_type": "code",
   "execution_count": 20,
   "metadata": {},
   "outputs": [],
   "source": []
  },
  {
   "cell_type": "markdown",
   "metadata": {},
   "source": [
    "2. Copy and paste your solution to question 1 and modify it so that all the data held by the counter is private. Implement functions to check the value of the counter, check the maximum value, and check if the counter is at the maximum."
   ]
  },
  {
   "cell_type": "code",
   "execution_count": 42,
   "metadata": {},
   "outputs": [],
   "source": [
    "class Counter():\n",
    "    def __init__(self, max=5):\n",
    "        self._max_value = max\n",
    "        self._value = 0\n",
    "        \n",
    "    def add (self, increment=1):\n",
    "        if self._value + increment <= self._max_value:\n",
    "            self._value += increment \n",
    "            print (\"Incremented by\", increment, \". Value is:\", self._value)\n",
    "        else:\n",
    "            print (\"Counter cannot be incremented beyond the maximum value.\")\n",
    "    def rest(self):\n",
    "        self._value = 0 \n",
    "    \n",
    "    def get_value(self):\n",
    "        return self._value \n",
    "        \n",
    "    def get_max_value(self):\n",
    "        return self._max_value\n",
    "    \n",
    "    def is_at_max(self):\n",
    "        return self._value == self._max_value "
   ]
  },
  {
   "cell_type": "code",
   "execution_count": 43,
   "metadata": {},
   "outputs": [
    {
     "data": {
      "text/plain": [
       "0"
      ]
     },
     "execution_count": 43,
     "metadata": {},
     "output_type": "execute_result"
    }
   ],
   "source": [
    "hello = Counter()\n",
    "hello._value"
   ]
  },
  {
   "cell_type": "code",
   "execution_count": 44,
   "metadata": {},
   "outputs": [
    {
     "data": {
      "text/plain": [
       "0"
      ]
     },
     "execution_count": 44,
     "metadata": {},
     "output_type": "execute_result"
    }
   ],
   "source": [
    "hello.get_value()"
   ]
  },
  {
   "cell_type": "code",
   "execution_count": 45,
   "metadata": {},
   "outputs": [
    {
     "name": "stdout",
     "output_type": "stream",
     "text": [
      "Incremented by 5 . Value is: 5\n"
     ]
    }
   ],
   "source": [
    "hello.add(5)"
   ]
  },
  {
   "cell_type": "code",
   "execution_count": 46,
   "metadata": {},
   "outputs": [
    {
     "name": "stdout",
     "output_type": "stream",
     "text": [
      "Counter cannot be incremented beyond the maximum value.\n",
      "Incremented by 1 . Value is: 1\n"
     ]
    }
   ],
   "source": [
    "hello.rest()\n",
    "hello.add(10)\n",
    "hello.get_value()\n",
    "hello.add(1)"
   ]
  },
  {
   "cell_type": "markdown",
   "metadata": {},
   "source": [
    "3. Implement a class to represent a rectangle, holding the length, width, and  𝑥 and  𝑦 coordinates of a corner of the object. Implement functions that compute the area and perimeter of the rectangle. Make all data members private and provide accessors to retrieve values of data members."
   ]
  },
  {
   "cell_type": "code",
   "execution_count": 57,
   "metadata": {},
   "outputs": [],
   "source": [
    "class Rectangle:\n",
    "    def __init__(self, length, width, x, y):\n",
    "        self.__length = length \n",
    "        self.__width = width \n",
    "        self.__x = x\n",
    "        self.__y = y\n",
    "        \n",
    "    def get__length(self):\n",
    "        return self.__length \n",
    "    \n",
    "    def get__width(self):\n",
    "        return self.__width \n",
    "    \n",
    "    def get__x(self):\n",
    "        return self.__x\n",
    "    \n",
    "    def get__y(self):\n",
    "        return self.__y\n",
    "    \n",
    "    def compute__area(self):\n",
    "        return self.__width*self.__length \n",
    "    \n",
    "    def compute__perimeter(self):\n",
    "        return 2*(self.__length + self.__width)\n",
    "        \n",
    "    \n",
    "        "
   ]
  },
  {
   "cell_type": "code",
   "execution_count": 59,
   "metadata": {},
   "outputs": [
    {
     "data": {
      "text/plain": [
       "30"
      ]
     },
     "execution_count": 59,
     "metadata": {},
     "output_type": "execute_result"
    }
   ],
   "source": [
    "mine = Rectangle(6,5,3,3)\n",
    "mine.compute__area()\n"
   ]
  },
  {
   "cell_type": "code",
   "execution_count": 60,
   "metadata": {},
   "outputs": [
    {
     "data": {
      "text/plain": [
       "22"
      ]
     },
     "execution_count": 60,
     "metadata": {},
     "output_type": "execute_result"
    }
   ],
   "source": [
    "mine.compute__perimeter()"
   ]
  },
  {
   "cell_type": "code",
   "execution_count": 62,
   "metadata": {},
   "outputs": [
    {
     "data": {
      "text/plain": [
       "6"
      ]
     },
     "execution_count": 62,
     "metadata": {},
     "output_type": "execute_result"
    }
   ],
   "source": [
    "mine.get__length()"
   ]
  },
  {
   "cell_type": "code",
   "execution_count": 63,
   "metadata": {},
   "outputs": [
    {
     "data": {
      "text/plain": [
       "5"
      ]
     },
     "execution_count": 63,
     "metadata": {},
     "output_type": "execute_result"
    }
   ],
   "source": [
    "mine.get__width()"
   ]
  },
  {
   "cell_type": "markdown",
   "metadata": {},
   "source": [
    "4. Implement a class to represent a circle, holding the radius and $x$ and $y$ coordinates of center of the object. Implement functions that compute the area and perimeter of the rectangle. Make all data members private and privide accessors to retrieve values of data members. "
   ]
  },
  {
   "cell_type": "code",
   "execution_count": 69,
   "metadata": {},
   "outputs": [],
   "source": [
    "from math import pi\n",
    "class Circle:\n",
    "    def __init__(self, radius, x, y):\n",
    "        self.__radius = radius\n",
    "        self.__x = x\n",
    "        self.__y = y\n",
    "        \n",
    "    def get__radius(self):\n",
    "        return self.__radius\n",
    "    \n",
    "    def get__x(self):\n",
    "        return self.__x\n",
    "    \n",
    "    def get__y(self):\n",
    "        return self.__x\n",
    "    \n",
    "    def area(self):\n",
    "        return pi*(self.__radius**2)\n",
    "    \n",
    "    def perimeter(self):\n",
    "        return 2*pi*self.__radius \n",
    "    \n",
    "    def get_compute(self):\n",
    "        area = self.area()\n",
    "        perimeter = self.perimeter()\n",
    "        print(f\"Radius = {self.__radius} \\n\\nCoordinates = {self.__x,self.__y} \\n\\nCircumference = {perimeter}\")"
   ]
  },
  {
   "cell_type": "code",
   "execution_count": 70,
   "metadata": {},
   "outputs": [
    {
     "name": "stdout",
     "output_type": "stream",
     "text": [
      "Radius = 5 \n",
      "\n",
      "Coordinates = (3, 3) \n",
      "\n",
      "Circumference = 31.41592653589793\n"
     ]
    }
   ],
   "source": [
    "mine2 = Circle (5,3,3)\n",
    "mine2.get_compute()"
   ]
  },
  {
   "cell_type": "markdown",
   "metadata": {},
   "source": [
    "5. Implement a common base class for the classes implemented in 3 and 4 above which implements all common methods as not implemented functions (virtual). Re-implement those classes to inherit from the base class and overload the functions accordingly. "
   ]
  },
  {
   "cell_type": "code",
   "execution_count": 73,
   "metadata": {},
   "outputs": [],
   "source": [
    "from math import pi \n",
    "\n",
    "class Shape():\n",
    "    def __init__(self, x, y):\n",
    "        self.__x = x\n",
    "        self.__y = y\n",
    "        \n",
    "    def area(self):\n",
    "        pass\n",
    "    \n",
    "    def perimeter(self):\n",
    "        pass\n",
    "    \n",
    "    def get_coordinates(self):\n",
    "        return self.__x, self.__y\n",
    "    \n",
    "    \n",
    "class Rectangle(Shape):\n",
    "    def __init__(self, length, width, x, y):\n",
    "        super().__init__(x, y)\n",
    "        self.__length = length\n",
    "        self.__width = width \n",
    "        \n",
    "    def area(self):\n",
    "        return self.__length*self.__width \n",
    "    \n",
    "    def perimeter(self):\n",
    "        return 2*(self.__length + self.__width)\n",
    "    \n",
    "    \n",
    "class Circle(Shape):\n",
    "    def __init__(self, radius, x, y):\n",
    "        super().__init__(x, y)\n",
    "        self.__radius = radius\n",
    "        \n",
    "    def area(self):\n",
    "        return pi*(self.__radius**2)\n",
    "    \n",
    "    def perimeter(self):\n",
    "        return 2*pi*self.__radius"
   ]
  },
  {
   "cell_type": "code",
   "execution_count": 75,
   "metadata": {},
   "outputs": [
    {
     "name": "stdout",
     "output_type": "stream",
     "text": [
      "Rectangle Area: 15\n",
      "Rectangle Perimeter: 16\n",
      "Rectangle Coordinates: (2, 2)\n",
      "\n",
      "Circle Area: 78.53981633974483\n",
      "Circle Perimeter: 31.41592653589793\n",
      "Circle Coordinates: (3, 3)\n"
     ]
    }
   ],
   "source": [
    "rectangle = Rectangle(5, 3, 2, 2)\n",
    "circle = Circle (5, 3, 3)\n",
    "\n",
    "print(\"Rectangle Area:\", rectangle.area())\n",
    "print(\"Rectangle Perimeter:\", rectangle.perimeter())\n",
    "print(\"Rectangle Coordinates:\", rectangle.get_coordinates())\n",
    "\n",
    "print(\"\\nCircle Area:\", circle.area())\n",
    "print(\"Circle Perimeter:\", circle.perimeter())\n",
    "print(\"Circle Coordinates:\", circle.get_coordinates())"
   ]
  },
  {
   "cell_type": "markdown",
   "metadata": {},
   "source": [
    "6. Implement an analogous triangle class."
   ]
  },
  {
   "cell_type": "code",
   "execution_count": 88,
   "metadata": {},
   "outputs": [],
   "source": [
    "from math import sqrt \n",
    "\n",
    "class Triangle:\n",
    "    def __init__(self, side1, side2, side3):\n",
    "        self.__side1 = side1\n",
    "        self.__side2 = side2\n",
    "        self.__side3 = side3\n",
    "        \n",
    "    def get__side1(self):\n",
    "        return self.__side1\n",
    "    \n",
    "    def get__side2(self):\n",
    "        return self.__side2\n",
    "    \n",
    "    def get__side3(self):\n",
    "        return self.__side3\n",
    "    \n",
    "    def set__side1(self, side1):\n",
    "        self.__side1 = side1\n",
    "\n",
    "    def set__side2(self, side2):\n",
    "        self.__side2 = side2\n",
    "\n",
    "    def set__side3(self, side3):\n",
    "        self.__side3 = side3\n",
    "\n",
    "    def area(self):\n",
    "        s = (self.__side1 + self.__side2 + self.__side3) / 2\n",
    "        return sqrt(s * (s - self.__side1) * (s - self.__side2) * (s - self.__side3))\n",
    "\n",
    "    def perimeter(self):\n",
    "        return self.__side1 + self.__side2 + self.__side3"
   ]
  },
  {
   "cell_type": "code",
   "execution_count": 89,
   "metadata": {},
   "outputs": [
    {
     "name": "stdout",
     "output_type": "stream",
     "text": [
      "Triangle Side 1: 3\n",
      "Triangle Side 2: 4\n",
      "Triangle Side 3: 5\n",
      "Triangle Area: 6.0\n",
      "Triangle Perimeter: 12\n"
     ]
    }
   ],
   "source": [
    "triangle = Triangle(3, 4, 5)\n",
    "\n",
    "print(\"Triangle Side 1:\", triangle.get__side1())\n",
    "print(\"Triangle Side 2:\", triangle.get__side2())\n",
    "print(\"Triangle Side 3:\", triangle.get__side3())\n",
    "\n",
    "print(\"Triangle Area:\", triangle.area())\n",
    "print(\"Triangle Perimeter:\", triangle.perimeter())"
   ]
  },
  {
   "cell_type": "markdown",
   "metadata": {},
   "source": [
    "7. Add a function to the object classes that tests if a given set of $x$ and $y$ coordinates are inside of the object."
   ]
  },
  {
   "cell_type": "code",
   "execution_count": 21,
   "metadata": {},
   "outputs": [],
   "source": [
    "class Rectangle:\n",
    "    def __init__(self, length, width, x, y):\n",
    "        self.__length = length \n",
    "        self.__width = width \n",
    "        self.__x = x\n",
    "        self.__y = y\n",
    "        \n",
    "    def get__length(self):\n",
    "        return self.__length \n",
    "    \n",
    "    def get__width(self):\n",
    "        return self.__width \n",
    "    \n",
    "    def get__x(self):\n",
    "        return self.__x\n",
    "    \n",
    "    def get__y(self):\n",
    "        return self.__y\n",
    "    \n",
    "    def compute__area(self):\n",
    "        return self.__width*self.__length \n",
    "    \n",
    "    def compute__perimeter(self):\n",
    "        return 2*(self.__length + self.__width)\n",
    "    \n",
    "    def is_point_inside(self, x, y):\n",
    "        if (self.__x <= x <= self.__x + self.__length and self.__y <= y <= self.__y + self.__width):\n",
    "            return True\n",
    "        else:\n",
    "            return False \n",
    "        \n",
    "        "
   ]
  },
  {
   "cell_type": "code",
   "execution_count": 22,
   "metadata": {
    "scrolled": true
   },
   "outputs": [
    {
     "name": "stdout",
     "output_type": "stream",
     "text": [
      "Is point (2, 2) inside the rectangle? True\n",
      "Is point (5, 5) inside the rectangle? False\n"
     ]
    }
   ],
   "source": [
    "rectangle = Rectangle (4, 3, 1, 1)\n",
    "print(\"Is point (2, 2) inside the rectangle?\", rectangle.is_point_inside(2,2))\n",
    "print(\"Is point (5, 5) inside the rectangle?\", rectangle.is_point_inside(5,5))"
   ]
  },
  {
   "cell_type": "code",
   "execution_count": 15,
   "metadata": {},
   "outputs": [],
   "source": [
    "from math import pi, sqrt \n",
    "class Circle:\n",
    "    def __init__(self, radius, x, y):\n",
    "        self.__radius = radius\n",
    "        self.__x = x\n",
    "        self.__y = y\n",
    "        \n",
    "    def get__radius(self):\n",
    "        return self.__radius\n",
    "    \n",
    "    def get__x(self):\n",
    "        return self.__x\n",
    "    \n",
    "    def get__y(self):\n",
    "        return self.__x\n",
    "    \n",
    "    def area(self):\n",
    "        return pi*(self.__radius**2)\n",
    "    \n",
    "    def perimeter(self):\n",
    "        return 2*pi*self.__radius \n",
    "    \n",
    "    def get_compute(self):\n",
    "        area = self.area()\n",
    "        perimeter = self.perimeter()\n",
    "        print(f\"Radius = {self.__radius} \\n\\nCoordinates = {self.__x,self.__y} \\n\\nCircumference = {perimeter}\")\n",
    "        \n",
    "    def is_point_inside(self, x, y):\n",
    "        distance = sqrt((x- self.__x)**2 + (y - self.__y)**2)\n",
    "        \n",
    "        if distance <= self.__radius:\n",
    "            return True \n",
    "        else:\n",
    "            return False \n",
    "\n",
    "        \n"
   ]
  },
  {
   "cell_type": "code",
   "execution_count": 20,
   "metadata": {},
   "outputs": [
    {
     "name": "stdout",
     "output_type": "stream",
     "text": [
      "Is point (4, 4) inside the circle? True\n",
      "Is point (7, 7) inside the circle? False\n"
     ]
    }
   ],
   "source": [
    "circle = Circle (5, 3, 3,)\n",
    "\n",
    "print(\"Is point (4, 4) inside the circle?\", circle.is_point_inside(4, 4))\n",
    "\n",
    "print(\"Is point (7, 7) inside the circle?\", circle.is_point_inside(7, 7))\n"
   ]
  },
  {
   "cell_type": "code",
   "execution_count": 13,
   "metadata": {},
   "outputs": [],
   "source": [
    "from math import sqrt \n",
    "\n",
    "class Triangle:\n",
    "    def __init__(self, side1, side2, side3, x1, y1, x2, y2, x3, y3):\n",
    "        self.__side1 = side1\n",
    "        self.__side2 = side2\n",
    "        self.__side3 = side3\n",
    "        self.__x1, self.__y1 = x1, y1\n",
    "        self.__x2, self.__y2 = x2, y2\n",
    "        self.__x3, self.__y3 = x3, y3\n",
    "        \n",
    "    def get__side1(self):\n",
    "        return self.__side1\n",
    "    \n",
    "    def get__side2(self):\n",
    "        return self.__side2\n",
    "    \n",
    "    def get__side3(self):\n",
    "        return self.__side3\n",
    "    \n",
    "    def set__side1(self, side1):\n",
    "        self.__side1 = side1\n",
    "\n",
    "    def set__side2(self, side2):\n",
    "        self.__side2 = side2\n",
    "\n",
    "    def set__side3(self, side3):\n",
    "        self.__side3 = side3\n",
    "\n",
    "    def area(self):\n",
    "        s = (self.__side1 + self.__side2 + self.__side3) / 2\n",
    "        return sqrt(s * (s - self.__side1) * (s - self.__side2) * (s - self.__side3))\n",
    "\n",
    "    def perimeter(self):\n",
    "        return self.__side1 + self.__side2 + self.__side3\n",
    "    \n",
    "    def is_point_inside(self, x, y):\n",
    "        detT = (self.__y2 - self.__y3) * (self.__x1 - self.__x3) + (self.__x3 - self.__x2) * (self.__y1 - self.__y3)\n",
    "        alpha = ((self.__y2 - self.__y3) * (x - self.__x3) + (self.__x3 - self.__x2) * (y - self.__y3)) / detT\n",
    "        beta = ((self.__y3 - self.__y1) * (x - self.__x3) + (self.__x1 - self.__x3) * (y - self.__y3)) / detT\n",
    "        gamma = 1 - alpha - beta \n",
    "        \n",
    "        if  0 <= alpha <= 1 and 0 <= beta <= 1 and 0 <= gamma <= 1:\n",
    "            return True\n",
    "        else:\n",
    "            return False\n",
    "\n"
   ]
  },
  {
   "cell_type": "code",
   "execution_count": 14,
   "metadata": {},
   "outputs": [
    {
     "name": "stdout",
     "output_type": "stream",
     "text": [
      "Is point (2,1) inside the triangle? True\n"
     ]
    }
   ],
   "source": [
    "triangle = Triangle(3, 4, 5, 0, 0, 4, 0, 2, 3)\n",
    "print (\"Is point (2,1) inside the triangle?\", triangle.is_point_inside(2,1))"
   ]
  },
  {
   "cell_type": "markdown",
   "metadata": {},
   "source": [
    "8. Add a function to the object classes that return a list of up to 16 pairs of  $x$ and $y$ points on the parameter of the object.\n",
    "\n"
   ]
  },
  {
   "cell_type": "code",
   "execution_count": 23,
   "metadata": {},
   "outputs": [],
   "source": [
    "class Rectangle:\n",
    "    def __init__(self, length, width, x, y):\n",
    "        self.__length = length \n",
    "        self.__width = width \n",
    "        self.__x = x\n",
    "        self.__y = y\n",
    "        \n",
    "    def get__length(self):\n",
    "        return self.__length \n",
    "    \n",
    "    def get__width(self):\n",
    "        return self.__width \n",
    "    \n",
    "    def get__x(self):\n",
    "        return self.__x\n",
    "    \n",
    "    def get__y(self):\n",
    "        return self.__y\n",
    "    \n",
    "    def compute__area(self):\n",
    "        return self.__width*self.__length \n",
    "    \n",
    "    def compute__perimeter(self):\n",
    "        return 2*(self.__length + self.__width)\n",
    "    \n",
    "    def is_point_inside(self, x, y):\n",
    "        if (self.__x <= x <= self.__x + self.__length and self.__y <= y <= self.__y + self.__width):\n",
    "            return True\n",
    "        else:\n",
    "            return False \n",
    "        \n",
    "    def get_perimeter_points(self):\n",
    "        points = []\n",
    "        for i in range(17):\n",
    "            if i < 4:\n",
    "                points.append((self.__x, self.__y + i * (self.__width/3)))\n",
    "            elif 4 <= i <8:\n",
    "                points.append((self.__x + (i - 4) * (self.__length / 3), self.__y + self.__width))\n",
    "            elif 8 <= i < 12:\n",
    "                points.append((self.__x + self.__length, self.__y + self.__width - (i - 8) * (self.__width / 3)))\n",
    "            elif 12 <= i < 16:\n",
    "                points.append((self.__x + self.__length - (i - 12) * (self.__length / 3), self.__y))\n",
    "        return points"
   ]
  },
  {
   "cell_type": "code",
   "execution_count": 25,
   "metadata": {},
   "outputs": [
    {
     "name": "stdout",
     "output_type": "stream",
     "text": [
      "Point on perimeter: (1, 1.0)\n",
      "Point on perimeter: (1, 2.0)\n",
      "Point on perimeter: (1, 3.0)\n",
      "Point on perimeter: (1, 4.0)\n",
      "Point on perimeter: (1.0, 4)\n",
      "Point on perimeter: (2.333333333333333, 4)\n",
      "Point on perimeter: (3.6666666666666665, 4)\n",
      "Point on perimeter: (5.0, 4)\n",
      "Point on perimeter: (5, 4.0)\n",
      "Point on perimeter: (5, 3.0)\n",
      "Point on perimeter: (5, 2.0)\n",
      "Point on perimeter: (5, 1.0)\n",
      "Point on perimeter: (5.0, 1)\n",
      "Point on perimeter: (3.666666666666667, 1)\n",
      "Point on perimeter: (2.3333333333333335, 1)\n",
      "Point on perimeter: (1.0, 1)\n"
     ]
    }
   ],
   "source": [
    "rectangle = Rectangle(4, 3, 1, 1)\n",
    "\n",
    "perimeter_points = rectangle.get_perimeter_points()\n",
    "for point in perimeter_points:\n",
    "    print(f\"Point on perimeter: {point}\")"
   ]
  },
  {
   "cell_type": "code",
   "execution_count": 31,
   "metadata": {},
   "outputs": [],
   "source": [
    "from math import pi, cos, sin \n",
    "class Circle:\n",
    "    def __init__(self, radius, x, y):\n",
    "        self.__radius = radius\n",
    "        self.__x = x\n",
    "        self.__y = y\n",
    "        \n",
    "    def get__radius(self):\n",
    "        return self.__radius\n",
    "    \n",
    "    def get__x(self):\n",
    "        return self.__x\n",
    "    \n",
    "    def get__y(self):\n",
    "        return self.__x\n",
    "    \n",
    "    def area(self):\n",
    "        return pi*(self.__radius**2)\n",
    "    \n",
    "    def perimeter(self):\n",
    "        return 2*pi*self.__radius \n",
    "    \n",
    "    def get_compute(self):\n",
    "        area = self.area()\n",
    "        perimeter = self.perimeter()\n",
    "        print(f\"Radius = {self.__radius} \\n\\nCoordinates = {self.__x,self.__y} \\n\\nCircumference = {perimeter}\")\n",
    "        \n",
    "    def is_point_inside(self, x, y):\n",
    "        distance = sqrt((x- self.__x)**2 + (y - self.__y)**2)\n",
    "        \n",
    "        if distance <= self.__radius:\n",
    "            return True \n",
    "        else:\n",
    "            return False \n",
    "\n",
    "    def get_perimeter_points(self):\n",
    "        points = []\n",
    "        for i in range(16):\n",
    "            angle = i * (2 * pi / 16)\n",
    "            x_point = self.__x + self.__radius * cos(angle)\n",
    "            y_point = self.__y + self.__radius * sin(angle)\n",
    "            points.append((x_point, y_point))\n",
    "        return points"
   ]
  },
  {
   "cell_type": "code",
   "execution_count": 32,
   "metadata": {},
   "outputs": [
    {
     "name": "stdout",
     "output_type": "stream",
     "text": [
      "Point on perimeter: (8.0, 3.0)\n",
      "Point on perimeter: (7.619397662556434, 4.913417161825449)\n",
      "Point on perimeter: (6.535533905932738, 6.535533905932738)\n",
      "Point on perimeter: (4.913417161825449, 7.619397662556434)\n",
      "Point on perimeter: (3.0000000000000004, 8.0)\n",
      "Point on perimeter: (1.0865828381745515, 7.619397662556434)\n",
      "Point on perimeter: (-0.5355339059327373, 6.535533905932738)\n",
      "Point on perimeter: (-1.619397662556434, 4.91341716182545)\n",
      "Point on perimeter: (-2.0, 3.0000000000000004)\n",
      "Point on perimeter: (-1.619397662556434, 1.0865828381745517)\n",
      "Point on perimeter: (-0.5355339059327386, -0.5355339059327373)\n",
      "Point on perimeter: (1.0865828381745484, -1.6193976625564321)\n",
      "Point on perimeter: (2.999999999999999, -2.0)\n",
      "Point on perimeter: (4.91341716182545, -1.619397662556433)\n",
      "Point on perimeter: (6.535533905932737, -0.5355339059327386)\n",
      "Point on perimeter: (7.619397662556432, 1.086582838174548)\n"
     ]
    }
   ],
   "source": [
    "circle = Circle(5, 3, 3)\n",
    "perimeter_points = circle.get_perimeter_points()\n",
    "for point in perimeter_points:\n",
    "    print(f\"Point on perimeter: {point}\")"
   ]
  },
  {
   "cell_type": "code",
   "execution_count": 33,
   "metadata": {},
   "outputs": [],
   "source": [
    "from math import sqrt \n",
    "\n",
    "class Triangle:\n",
    "    def __init__(self, side1, side2, side3, x1, y1, x2, y2, x3, y3):\n",
    "        self.__side1 = side1\n",
    "        self.__side2 = side2\n",
    "        self.__side3 = side3\n",
    "        self.__x1, self.__y1 = x1, y1\n",
    "        self.__x2, self.__y2 = x2, y2\n",
    "        self.__x3, self.__y3 = x3, y3\n",
    "        \n",
    "    def get__side1(self):\n",
    "        return self.__side1\n",
    "    \n",
    "    def get__side2(self):\n",
    "        return self.__side2\n",
    "    \n",
    "    def get__side3(self):\n",
    "        return self.__side3\n",
    "    \n",
    "    def set__side1(self, side1):\n",
    "        self.__side1 = side1\n",
    "\n",
    "    def set__side2(self, side2):\n",
    "        self.__side2 = side2\n",
    "\n",
    "    def set__side3(self, side3):\n",
    "        self.__side3 = side3\n",
    "\n",
    "    def area(self):\n",
    "        s = (self.__side1 + self.__side2 + self.__side3) / 2\n",
    "        return sqrt(s * (s - self.__side1) * (s - self.__side2) * (s - self.__side3))\n",
    "\n",
    "    def perimeter(self):\n",
    "        return self.__side1 + self.__side2 + self.__side3\n",
    "    \n",
    "    def is_point_inside(self, x, y):\n",
    "        detT = (self.__y2 - self.__y3) * (self.__x1 - self.__x3) + (self.__x3 - self.__x2) * (self.__y1 - self.__y3)\n",
    "        alpha = ((self.__y2 - self.__y3) * (x - self.__x3) + (self.__x3 - self.__x2) * (y - self.__y3)) / detT\n",
    "        beta = ((self.__y3 - self.__y1) * (x - self.__x3) + (self.__x1 - self.__x3) * (y - self.__y3)) / detT\n",
    "        gamma = 1 - alpha - beta \n",
    "        \n",
    "        if  0 <= alpha <= 1 and 0 <= beta <= 1 and 0 <= gamma <= 1:\n",
    "            return True\n",
    "        else:\n",
    "            return False\n",
    "        \n",
    "    def get_perimeter_points(self):\n",
    "        points = []\n",
    "        for i in range(16):\n",
    "            t = i / 15.0\n",
    "            x_point = (\n",
    "                (1 - t) * self.__x1 + t * self.__x2,\n",
    "                (1 - t) * self.__y1 + t * self.__y2\n",
    "            )\n",
    "            points.append(x_point)\n",
    "\n",
    "        for i in range(16):\n",
    "            t = i / 15.0\n",
    "            x_point = (\n",
    "                (1 - t) * self.__x2 + t * self.__x3,\n",
    "                (1 - t) * self.__y2 + t * self.__y3)\n",
    "            points.append(x_point)\n",
    "            \n",
    "        for i in range(16):\n",
    "            t = i / 15.0\n",
    "            x_point = (\n",
    "                ( 1 - t) * self.__x3 + t * self.__x1,\n",
    "                ( 1 - t) * self.__y3 + t * self.__y1\n",
    "            )\n",
    "            \n",
    "            points.append(x_point)\n",
    "        \n",
    "        return points\n",
    "\n"
   ]
  },
  {
   "cell_type": "code",
   "execution_count": 34,
   "metadata": {},
   "outputs": [
    {
     "name": "stdout",
     "output_type": "stream",
     "text": [
      "Point on Perimeter: (0.0, 0.0)\n",
      "Point on Perimeter: (0.26666666666666666, 0.0)\n",
      "Point on Perimeter: (0.5333333333333333, 0.0)\n",
      "Point on Perimeter: (0.8, 0.0)\n",
      "Point on Perimeter: (1.0666666666666667, 0.0)\n",
      "Point on Perimeter: (1.3333333333333333, 0.0)\n",
      "Point on Perimeter: (1.6, 0.0)\n",
      "Point on Perimeter: (1.8666666666666667, 0.0)\n",
      "Point on Perimeter: (2.1333333333333333, 0.0)\n",
      "Point on Perimeter: (2.4, 0.0)\n",
      "Point on Perimeter: (2.6666666666666665, 0.0)\n",
      "Point on Perimeter: (2.933333333333333, 0.0)\n",
      "Point on Perimeter: (3.2, 0.0)\n",
      "Point on Perimeter: (3.466666666666667, 0.0)\n",
      "Point on Perimeter: (3.7333333333333334, 0.0)\n",
      "Point on Perimeter: (4.0, 0.0)\n",
      "Point on Perimeter: (4.0, 0.0)\n",
      "Point on Perimeter: (3.8666666666666667, 0.2)\n",
      "Point on Perimeter: (3.7333333333333334, 0.4)\n",
      "Point on Perimeter: (3.6, 0.6000000000000001)\n",
      "Point on Perimeter: (3.466666666666667, 0.8)\n",
      "Point on Perimeter: (3.3333333333333335, 1.0)\n",
      "Point on Perimeter: (3.2, 1.2000000000000002)\n",
      "Point on Perimeter: (3.0666666666666664, 1.4)\n",
      "Point on Perimeter: (2.9333333333333336, 1.6)\n",
      "Point on Perimeter: (2.8, 1.7999999999999998)\n",
      "Point on Perimeter: (2.666666666666667, 2.0)\n",
      "Point on Perimeter: (2.533333333333333, 2.1999999999999997)\n",
      "Point on Perimeter: (2.4, 2.4000000000000004)\n",
      "Point on Perimeter: (2.2666666666666666, 2.6)\n",
      "Point on Perimeter: (2.1333333333333333, 2.8)\n",
      "Point on Perimeter: (2.0, 3.0)\n",
      "Point on Perimeter: (2.0, 3.0)\n",
      "Point on Perimeter: (1.8666666666666667, 2.8)\n",
      "Point on Perimeter: (1.7333333333333334, 2.6)\n",
      "Point on Perimeter: (1.6, 2.4000000000000004)\n",
      "Point on Perimeter: (1.4666666666666668, 2.2)\n",
      "Point on Perimeter: (1.3333333333333335, 2.0)\n",
      "Point on Perimeter: (1.2, 1.7999999999999998)\n",
      "Point on Perimeter: (1.0666666666666667, 1.6)\n",
      "Point on Perimeter: (0.9333333333333333, 1.4)\n",
      "Point on Perimeter: (0.8, 1.2000000000000002)\n",
      "Point on Perimeter: (0.6666666666666667, 1.0)\n",
      "Point on Perimeter: (0.5333333333333334, 0.8000000000000002)\n",
      "Point on Perimeter: (0.3999999999999999, 0.5999999999999999)\n",
      "Point on Perimeter: (0.2666666666666666, 0.3999999999999999)\n",
      "Point on Perimeter: (0.1333333333333333, 0.19999999999999996)\n",
      "Point on Perimeter: (0.0, 0.0)\n"
     ]
    }
   ],
   "source": [
    "triangle = Triangle (3, 4, 5, 0, 0, 4, 0, 2, 3)\n",
    "\n",
    "perimeter_points = triangle.get_perimeter_points()\n",
    "for point in perimeter_points:\n",
    "    print(f\"Point on Perimeter: {point}\")"
   ]
  },
  {
   "cell_type": "markdown",
   "metadata": {},
   "source": [
    "9. Add a function in the base class of the object classes that returns true/false testing that the object overlaps with another object."
   ]
  },
  {
   "cell_type": "code",
   "execution_count": 12,
   "metadata": {},
   "outputs": [],
   "source": [
    "\n",
    "   from math import pi, sqrt, sin, cos\n",
    "\n",
    "class Shape:\n",
    "    def __init__(self, x, y):\n",
    "        self.__x = x\n",
    "        self.__y = y\n",
    "\n",
    "    def area(self):\n",
    "        raise NotImplementedError\n",
    "\n",
    "    def perimeter(self):\n",
    "        raise NotImplementedError\n",
    "\n",
    "    def get_coordinates(self):\n",
    "        return self.__x, self.__y\n",
    "\n",
    "    def is_point_inside(self, x, y):\n",
    "        raise NotImplementedError\n",
    "\n",
    "    def overlaps(self, other):\n",
    "        for point in other.get_perimeter_points():\n",
    "            x, y = point\n",
    "            if self.is_point_inside(x, y):\n",
    "                return True\n",
    "        return False\n",
    "\n",
    "class Rectangle(Shape):\n",
    "    def __init__(self, length, width, x, y):\n",
    "        super().__init__(x, y)\n",
    "        self.__length = length\n",
    "        self.__width = width\n",
    "\n",
    "    def area(self):\n",
    "        return self.__length * self.__width\n",
    "\n",
    "    def perimeter(self):\n",
    "        return 2 * (self.__length + self.__width)\n",
    "\n",
    "    def is_point_inside(self, x, y):\n",
    "        return self.__x <= x <= self.__x + self.__length and self.__y <= y <= self.__y + self.__width\n",
    "\n",
    "    def get_perimeter_points(self):\n",
    "        points = []\n",
    "        for i in range(17):\n",
    "            if i < 4:\n",
    "                points.append((self.__x, self.__y + i * (self.__width / 3)))\n",
    "            elif 4 <= i < 8:\n",
    "                points.append((self.__x + (i - 4) * (self.__length / 3), self.__y + self.__width))\n",
    "            elif 8 <= i < 12:\n",
    "                points.append((self.__x + self.__length, self.__y + self.__width - (i - 8) * (self.__width / 3)))\n",
    "            elif 12 <= i < 16:\n",
    "                points.append((self.__x + self.__length - (i - 12) * (self.__length / 3), self.__y))\n",
    "        return points\n",
    "\n",
    "class Circle(Shape):\n",
    "    def __init__(self, radius, x, y):\n",
    "        super().__init__(x, y)\n",
    "        self.__radius = radius\n",
    "\n",
    "    def area(self):\n",
    "        return pi * (self.__radius ** 2)\n",
    "\n",
    "    def perimeter(self):\n",
    "        return 2 * pi * self.__radius\n",
    "\n",
    "    def is_point_inside(self, x, y):\n",
    "        distance = sqrt((x - self.get_coordinates()[0]) ** 2 + (y - self.get_coordinates()[1]) ** 2)\n",
    "        return distance <= self.__radius\n",
    "\n",
    "    def get_perimeter_points(self, num_points=16):\n",
    "        points = []\n",
    "        for i in range(num_points):\n",
    "            angle = i * (2 * pi / num_points)\n",
    "            x_point = self.__x + self.__radius * cos(angle)\n",
    "            y_point = self.__y + self.__radius * sin(angle)\n",
    "            points.append((x_point, y_point))\n",
    "        return points\n",
    "    def overlaps(self, other):\n",
    "        for point in other.parameter_points():\n",
    "            x, y = point\n",
    "            if self.is_point_inside(x, y):\n",
    "                return True\n",
    "        return False\n",
    "\n",
    "\n",
    "\n",
    "class Triangle(Shape):\n",
    "    def __init__(self, side1, side2, side3, x1, y1, x2, y2, x3, y3):\n",
    "        super().__init__(x1, y1)\n",
    "        self.__side1 = side1\n",
    "        self.__side2 = side2\n",
    "        self.__side3 = side3\n",
    "        self.__x2, self.__y2 = x2, y2\n",
    "        self.__x3, self.__y3 = x3, y3\n",
    "\n",
    "    def area(self):\n",
    "        s = (self.__side1 + self.__side2 + self.__side3) / 2\n",
    "        return sqrt(s * (s - self.__side1) * (s - self.__side2) * (s - self.__side3))\n",
    "\n",
    "    def perimeter(self):\n",
    "        return self.__side1 + self.__side2 + self.__side3\n",
    "\n",
    "    def is_point_inside(self, x, y):\n",
    "        detT = (self.__y2 - self.__y3) * (self.__x1 - self.__x3) + (self.__x3 - self.__x2) * (self.__y1 - self.__y3)\n",
    "        alpha = ((self.__y2 - self.__y3) * (x - self.__x3) + (self.__x3 - self.__x2) * (y - self.__y3)) / detT\n",
    "        beta = ((self.__y3 - self.__y1) * (x - self.__x3) + (self.__x1 - self.__x3) * (y - self.__y3)) / detT\n",
    "        gamma = 1 - alpha - beta\n",
    "\n",
    "        return 0\n"
   ]
  },
  {
   "cell_type": "markdown",
   "metadata": {},
   "source": [
    "10. Copy the `Canvas` class from lecture to in a python file creating a `paint` module. Copy your classes from above into the module and implement paint functions. Implement a `CompoundShape` class. Create a simple drawing demonstrating that all of your classes are working."
   ]
  },
  {
   "cell_type": "code",
   "execution_count": 15,
   "metadata": {},
   "outputs": [
    {
     "name": "stdout",
     "output_type": "stream",
     "text": [
      "                    \n",
      "                    \n",
      "        *******     \n",
      "                    \n",
      "                    \n",
      "     *              \n",
      "     *              \n",
      "     *              \n",
      "     *              \n",
      "     *              \n"
     ]
    }
   ],
   "source": [
    "class Canvas:\n",
    "    def __init__(self, width, height):\n",
    "        self.width = width\n",
    "        self.height = height\n",
    "        self.data = [[' '] * width for i in range(height)]\n",
    "\n",
    "    def set_pixel(self, row, col, char='*'):\n",
    "        self.data[row][col] = char\n",
    "\n",
    "    def get_pixel(self, row, col):\n",
    "        return self.data[row][col]\n",
    "    \n",
    "    def clear_canvas(self):\n",
    "        self.data = [[' '] * self.width for i in range(self.height)]\n",
    "    \n",
    "    def v_line(self, x, y, w, **kargs):\n",
    "        for i in range(x, min(x + w, self.width)):\n",
    "            if 0 <= i < self.width and 0 <= y < self.height:\n",
    "                self.set_pixel(y, i, **kargs)\n",
    "    def h_line(self, x, y, h, **kargs):\n",
    "        for i in range(y, min(y + h, self.height)):\n",
    "            if 0 <= x < self.width and 0 <= i < self.height:\n",
    "                self.set_pixel(i, x, **kargs)\n",
    "            \n",
    "    def line(self, x1, y1, x2, y2, **kargs):\n",
    "        slope = (y2-y1) / (x2-x1)\n",
    "        for y in range(y1,y2):\n",
    "            x= int(slope * y)\n",
    "            self.set_pixel(x,y, **kargs)\n",
    "            \n",
    "    def display(self):\n",
    "        print(\"\\n\".join([\"\".join(row) for row in self.data]))\n",
    "\n",
    "class CompoundShape(Shape):\n",
    "    def __init__(self):\n",
    "        super().__init__(0, 0)  \n",
    "        self.shapes = []\n",
    "\n",
    "    def add_shape(self, shape):\n",
    "        self.shapes.append(shape)\n",
    "\n",
    "    def area(self):\n",
    "        return sum(shape.area() for shape in self.shapes)\n",
    "\n",
    "    def perimeter(self):\n",
    "        return sum(shape.perimeter() for shape in self.shapes)\n",
    "\n",
    "    def is_point_inside_shape(self, x, y):\n",
    "        return any(shape.is_point_inside(x, y) for shape in self.shapes)\n",
    "\n",
    "    def get_perimeter_points(self, num_points=16):\n",
    "        points = []\n",
    "        for shape in self.shapes:\n",
    "            points.extend(shape.get_perimeter_points(num_points))\n",
    "        return points\n",
    "\n",
    "if __name__ == \"__main__\":\n",
    "    canvas = Canvas(20,10)\n",
    "    rectangle = Rectangle(5, 3, 2, 2)\n",
    "    canvas.clear_canvas()\n",
    "    canvas.h_line(5, 5, 10)\n",
    "    canvas.v_line(8, 2, 7)\n",
    "    canvas.display()"
   ]
  },
  {
   "cell_type": "markdown",
   "metadata": {},
   "source": [
    "11. Create a `RasterDrawing` class. Demonstrate that you can create a drawing made of several shapes, paint the drawing, modify the drawing, and paint it again. "
   ]
  },
  {
   "cell_type": "code",
   "execution_count": 29,
   "metadata": {},
   "outputs": [],
   "source": [
    "from math import pi, cos, sin, sqrt \n",
    "\n",
    "class Shape:\n",
    "    def __init__(self):\n",
    "        pass\n",
    "    \n",
    "    def area(self):\n",
    "        raise NotImplementedError\n",
    "    \n",
    "    def perimeter(self):\n",
    "        raise NotImplementedError\n",
    "\n",
    "class Rectangle(Shape):\n",
    "    \n",
    "    def __init__(self, length, width, x, y):\n",
    "        self.__length = length\n",
    "        self.__width = width\n",
    "        self.__x, self.__y = x,y\n",
    "        \n",
    "    def area(self):\n",
    "        return self.__length * self.__width\n",
    "    \n",
    "    def perimeter(self):\n",
    "        return (2*self.__length) + (2*self.__width)\n",
    "    \n",
    "    def get_length(self):\n",
    "        return self.__length\n",
    "\n",
    "    def get_width(self):\n",
    "        return self.__width\n",
    "    def get_x(self):\n",
    "        return self.__x\n",
    "\n",
    "    def get_y(self):\n",
    "        return self.__y\n",
    "    \n",
    "    def get_data(self):\n",
    "        area = self.area()\n",
    "        perimeter = self.perimeter()\n",
    "        print(f\"Length = {self.__length} \\n\\nWidth = {self.__width} \\n\\nCoordinates = {(self.__x, self.__y)} \\n\\nArea = {area} \\n\\nPerimeter = {perimeter}\")\n",
    "        \n",
    "class Circle(Shape):\n",
    "    \n",
    "    def __init__(self, radius, x, y):\n",
    "        self.__radius = radius\n",
    "        self.__x, self.__y = x,y\n",
    "        \n",
    "    def area(self):\n",
    "        return pi*(self.__radius**2)\n",
    "    \n",
    "    def perimeter(self):\n",
    "        return 2*pi*self.__radius\n",
    "    \n",
    "    def get_radius(self):\n",
    "        return self.__radius\n",
    "\n",
    "    def get_x(self):\n",
    "        return self.__x\n",
    "\n",
    "    def get_y(self):\n",
    "        return self.__y\n",
    "    \n",
    "    def get_data(self):\n",
    "        area = self.area()\n",
    "        perimeter = self.perimeter()\n",
    "        print(f\"Radius = {self.__radius} \\n\\nCoordinates = {self.__x,self.__y} \\n\\nArea = {area} \\n\\nCircumference = {perimeter}\")\n",
    "\n",
    "class Canvas:\n",
    "    def __init__(self, width, height):\n",
    "        self.width = width\n",
    "        self.height = height\n",
    "        self.data = [[' '] * width for i in range(height)]\n",
    "\n",
    "    def set_pixel(self, row, col, char='*'):\n",
    "        self.data[row][col] = char\n",
    "\n",
    "    def get_pixel(self, row, col):\n",
    "        return self.data[row][col]\n",
    "    \n",
    "    def clear_canvas(self):\n",
    "        self.data = [[' '] * self.width for i in range(self.height)]\n",
    "    \n",
    "    def v_line(self, x, y, w, **kargs):\n",
    "        for i in range(x, min(x + w, self.width)):\n",
    "            if 0 <= i < self.width and 0 <= y < self.height:\n",
    "                self.set_pixel(y, i, **kargs)\n",
    "    def h_line(self, x, y, h, **kargs):\n",
    "        for i in range(y, min(y + h, self.height)):\n",
    "            if 0 <= x < self.width and 0 <= i < self.height:\n",
    "                self.set_pixel(i, x, **kargs)\n",
    "            \n",
    "    def line(self, x1, y1, x2, y2, **kargs):\n",
    "        slope = (y2-y1) / (x2-x1)\n",
    "        for y in range(y1,y2):\n",
    "            x= int(slope * y)\n",
    "            self.set_pixel(x,y, **kargs)\n",
    "            \n",
    "    def display(self):\n",
    "        print(\"\\n\".join([\"\".join(row) for row in self.data]))\n",
    "\n",
    "            \n",
    "class CompoundShape(Shape):\n",
    "    def __init__(self):\n",
    "        super().__init__(0, 0)  \n",
    "        self.shapes = []\n",
    "\n",
    "    def add_shape(self, shape):\n",
    "        self.shapes.append(shape)\n",
    "\n",
    "    def area(self):\n",
    "        return sum(shape.area() for shape in self.shapes)\n",
    "\n",
    "    def perimeter(self):\n",
    "        return sum(shape.perimeter() for shape in self.shapes)\n",
    "\n",
    "    def is_point_inside_shape(self, x, y):\n",
    "        return any(shape.is_point_inside(x, y) for shape in self.shapes)\n",
    "\n",
    "    def get_perimeter_points(self, num_points=16):\n",
    "        points = []\n",
    "        for shape in self.shapes:\n",
    "            points.extend(shape.get_perimeter_points(num_points))\n",
    "        return points\n",
    "\n",
    "class RasterDrawing:\n",
    "    def __init__(self, width, height):\n",
    "        self.canvas = Canvas(width, height)\n",
    "        self.shape = []\n",
    "    def add_shape(self, shape, x, y):\n",
    "        shape.move(x, y)\n",
    "        self.shapes.append(shape)\n",
    "    def paint_drawing(self):\n",
    "        \n",
    "        self.canvas.clear_canvas()\n",
    "        for shape in self.shapes:\n",
    "            perimeter_points = shape.get_perimeter_points()\n",
    "            for point in perimeter_points:\n",
    "                x, y = point\n",
    "                self.canvas.set_pixel(int(x), int(y), '*')\n",
    "    def modify_drawing(self):\n",
    "        \n",
    "        for shape in self.shapes:\n",
    "            shape.move(1, 1)  \n",
    "\n",
    "    def display_drawing(self):\n",
    "       \n",
    "        self.canvas.display()\n",
    "\n",
    "\n",
    "        \n"
   ]
  },
  {
   "cell_type": "code",
   "execution_count": null,
   "metadata": {},
   "outputs": [],
   "source": [
    "if __name__ == \"__main__\":\n",
    "    drawing = RasterDrawing (20, 10)\n",
    "    rectangle = Rectangle(5, 3, 2, 2)\n",
    "    circle = Circle(4, 8, 2)\n",
    "    triangle = Triangle(3, 4, 5, 8, 2, 12, 2, 10, 5)\n",
    "    drawing.add_shape(rectangle, 1, 1)\n"
   ]
  },
  {
   "cell_type": "markdown",
   "metadata": {},
   "source": [
    "12. Implement the ability to load/save raster drawings and demonstate that your method works. One way to implement this ability:\n",
    "\n",
    "   * Overload `__repr__` functions of all objects to return strings of the python code that would construct the object.\n",
    "   \n",
    "   * In the save method of raster drawing class, store the representations into the file.\n",
    "   * Write a loader function that reads the file and uses `eval` to instantiate the object.\n",
    "\n",
    "For example:"
   ]
  },
  {
   "cell_type": "code",
   "execution_count": 1,
   "metadata": {},
   "outputs": [],
   "source": [
    "class foo:\n",
    "    def __init__(self,a,b=None):\n",
    "        self.a=a\n",
    "        self.b=b\n",
    "        \n",
    "    def __repr__(self):\n",
    "        return \"foo(\"+repr(self.a)+\",\"+repr(self.b)+\")\"\n",
    "    \n",
    "    def save(self,filename):\n",
    "        f=open(filename,\"w\")\n",
    "        f.write(self.__repr__())\n",
    "        f.close()\n",
    "        \n",
    "   \n",
    "def foo_loader(filename):\n",
    "    f=open(filename,\"r\")\n",
    "    tmp=eval(f.read())\n",
    "    f.close()\n",
    "    return tmp\n"
   ]
  },
  {
   "cell_type": "code",
   "execution_count": 2,
   "metadata": {},
   "outputs": [
    {
     "name": "stdout",
     "output_type": "stream",
     "text": [
      "foo(1,'hello')\n"
     ]
    }
   ],
   "source": [
    "# Test\n",
    "print(repr(foo(1,\"hello\")))"
   ]
  },
  {
   "cell_type": "code",
   "execution_count": 3,
   "metadata": {},
   "outputs": [],
   "source": [
    "# Create an object and save it\n",
    "ff=foo(1,\"hello\")\n",
    "ff.save(\"Test.foo\")"
   ]
  },
  {
   "cell_type": "code",
   "execution_count": 4,
   "metadata": {},
   "outputs": [
    {
     "name": "stdout",
     "output_type": "stream",
     "text": [
      "foo(1,'hello')"
     ]
    }
   ],
   "source": [
    "# Check contents of the saved file\n",
    "!cat Test.foo"
   ]
  },
  {
   "cell_type": "code",
   "execution_count": 5,
   "metadata": {},
   "outputs": [
    {
     "data": {
      "text/plain": [
       "foo(1,'hello')"
      ]
     },
     "execution_count": 5,
     "metadata": {},
     "output_type": "execute_result"
    }
   ],
   "source": [
    "# Load the object\n",
    "ff_reloaded=foo_loader(\"Test.foo\")\n",
    "ff_reloaded"
   ]
  },
  {
   "cell_type": "code",
   "execution_count": null,
   "metadata": {},
   "outputs": [],
   "source": []
  },
  {
   "cell_type": "code",
   "execution_count": null,
   "metadata": {},
   "outputs": [],
   "source": []
  }
 ],
 "metadata": {
  "kernelspec": {
   "display_name": "Python 3 (ipykernel)",
   "language": "python",
   "name": "python3"
  },
  "language_info": {
   "codemirror_mode": {
    "name": "ipython",
    "version": 3
   },
   "file_extension": ".py",
   "mimetype": "text/x-python",
   "name": "python",
   "nbconvert_exporter": "python",
   "pygments_lexer": "ipython3",
   "version": "3.10.12"
  }
 },
 "nbformat": 4,
 "nbformat_minor": 4
}
