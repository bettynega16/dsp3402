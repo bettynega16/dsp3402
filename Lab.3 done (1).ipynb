{
 "cells": [
  {
   "cell_type": "markdown",
   "metadata": {},
   "source": [
    "## Lab 3\n",
    "\n",
    "In this lab we will become familiar with distributions, histograms, and functional programming. Before that, lets submit your Quiz from last lecture. Do not use numpy or any other library for this lab. \n",
    "\n",
    "### Quiz Submission\n",
    "\n",
    "The instructions here aim to have our course repository be public (enabling things like the colab links), while student repositories are private. You should be familiar with git from the first semester of this course. I assume that you all have github accounts and have setup things to be able to [push to github using ssh](https://docs.github.com/en/github/authenticating-to-github/connecting-to-github-with-ssh). The instuctions here lead you to:\n",
    "\n",
    "1. Create a directory on your personal system where you will keep all course materials.\n",
    "1. Clone the [course repository](https://github.com/UTA-DataScience/DATA3402.Fall.2023).\n",
    "1. Create a new private repository for your solutions. \n",
    "1. Copy lab notebooks from course repository to your solutions repository.\n",
    "1. Commit / push your solutions.\n",
    "1. Grant access to course instructors.\n",
    "\n",
    "Ideally, you should be able to do all of these steps yourself. Below are step by step instructions with examples (including example directory naming convention). Feel free to modify things as you see fit. The goal here to have a private repo where you can submit your solutions. \n",
    "\n",
    "1. Open a shell on your personal computer.\n",
    "1. If you have not done so already, create a new directory/folder where you will keep all course material to navigate to it. For example: `mkdir Data-3402` and `cd Data-3402`.\n",
    "1. Clone the course repository: `git clone https://github.com/UTA-DataScience/DATA3402.Fall.2023`.\n",
    "   1. Note that after the this clone, you simply need to navigate to this directory and do `git pull` to get updates (e.g. new labs).\n",
    "1. Make a new directory for your solutions and navigate to it: `mkdir DATA3402.Solutions.$USER` and `cd  DATA3402.Solutions.$USER`\n",
    "1. Make new directory for Labs and Lab 2: `mkdir Labs ; mkdir Labs/Labs.2`.\n",
    "1. Place your Quiz 1 solutions it this directory: `cp <path_to_solution> Labs/Labs.2 `\n",
    "   1. For Lab 2 and the future labs, just copy labs from the class repo, for example here: \n",
    "      * `mkdir Labs/Lab.3`\n",
    "      * `cp ../DATA3402.Fall.2023/Labs/Lab.3/Lab.3.ipynb Labs/Lab.3`\n",
    "1. Create a new git repository with same name are your directory above (i.e. `DATA3402.Solutions.$USER`). \n",
    "   * Navigate to your page on github.\n",
    "   * Use the \"+\" button to create a new repository.\n",
    "   * Make sure your repository is private.\n",
    "   * github will give you instructions on \"create a new repository on the command line\"\n",
    "1. After creating the repository, go to the repository settings tab, select \"Manage access\" on left, and press \"Invite a collaborator\" to invite course instructor (username `afarbin`). You'll do the same for our TA, once we have one for this course.\n",
    "1. To submit your labs, navigate to your private repo and \n",
    "   1. Make sure you have added the lab. For example: `git add Labs/Lab.2/Lab.2.ipynb`\n",
    "   1. Commit any changes: `git commit -a -m \"Lab 2 updates\"`\n",
    "   1. Push your changes: `git push`\n",
    "   1. Check on github that your solutions have been properly submitted.\n",
    "   \n",
    "   \n",
    "After submitting Quiz 1, continue work on lab 2, or start the remainder of this lab..."
   ]
  },
  {
   "cell_type": "markdown",
   "metadata": {},
   "source": [
    "### Uniform Distribution\n",
    "Lets start with generating some fake random data. You can get a random number between 0 and 1 using the python random module as follow:"
   ]
  },
  {
   "cell_type": "code",
   "execution_count": 1,
   "metadata": {},
   "outputs": [
    {
     "name": "stdout",
     "output_type": "stream",
     "text": [
      "The Value of x is 0.8828854319847991\n"
     ]
    }
   ],
   "source": [
    "import random\n",
    "x=random.random()\n",
    "print(\"The Value of x is\", x)"
   ]
  },
  {
   "cell_type": "markdown",
   "metadata": {},
   "source": [
    "Everytime you call random, you will get a new number.\n",
    "\n",
    "*Exercise 1:* Using random, write a function `generate_uniform(N, mymin, mymax)`, that returns a python list containing N random numbers between specified minimum and maximum value. Note that you may want to quickly work out on paper how to turn numbers between 0 and 1 to between other values. "
   ]
  },
  {
   "cell_type": "code",
   "execution_count": 4,
   "metadata": {},
   "outputs": [],
   "source": [
    "# Skeleton\n",
    "def generate_uniform(N,x_min,x_max):\n",
    "    random_numbers = [random.uniform(x_min,x_max)]\n",
    "    return random_numbers\n",
    "    ### BEGIN SOLUTION\n",
    "\n",
    "    # Fill in your solution here        \n",
    "    \n",
    "    ### END SOLUTION"
   ]
  },
  {
   "cell_type": "code",
   "execution_count": 5,
   "metadata": {},
   "outputs": [
    {
     "name": "stdout",
     "output_type": "stream",
     "text": [
      "[1.161351356536454]\n"
     ]
    }
   ],
   "source": [
    "N = 10\n",
    "x_min = 1\n",
    "x_max = 10\n",
    "result = generate_uniform(N, x_min, x_max)\n",
    "print(result)"
   ]
  },
  {
   "cell_type": "markdown",
   "metadata": {},
   "source": [
    "*Exercise 2a:* \n",
    "Write a function that computes the mean of values in a list. Recall the equation for the mean of a random variable $\\bf{x}$ computed on a data set of $n$ values $\\{ x_i \\} = \\{x_1, x_2, ..., x_n\\}$  is ${\\bf\\bar{x}} = \\frac{1}{n} \\sum_i^n x_i$."
   ]
  },
  {
   "cell_type": "code",
   "execution_count": 6,
   "metadata": {},
   "outputs": [],
   "source": [
    "# Skeleton\n",
    "def mean(Data):\n",
    "    if not Data:\n",
    "        return None \n",
    "    total = sum(Data)\n",
    "    mean = total/len(Data)\n",
    "    return mean\n",
    "    \n",
    "    ### BEGIN SOLUTION\n",
    "\n",
    "    # Fill in your solution here        \n",
    "    \n",
    "    ### END SOLUTION\n",
    "    \n",
    "  "
   ]
  },
  {
   "cell_type": "code",
   "execution_count": 8,
   "metadata": {},
   "outputs": [
    {
     "name": "stdout",
     "output_type": "stream",
     "text": [
      "Mean: 9.0\n"
     ]
    }
   ],
   "source": [
    "# Test your solution here\n",
    "values = [3, 6, 9, 12, 15]\n",
    "mean_value = mean(values)\n",
    "print(\"Mean:\", mean_value)"
   ]
  },
  {
   "cell_type": "markdown",
   "metadata": {},
   "source": [
    "*Exercise 2b:* \n",
    "Write a function that computes the variance of values in a list. Recall the equation for the variance of a random variable $\\bf{x}$ computed on a data set of $n$ values $\\{ x_i \\} = \\{x_1, x_2, ..., x_n\\}$  is ${\\bf\\langle x \\rangle} = \\frac{1}{n} \\sum_i^n (x_i - {\\bf\\bar{x}})$."
   ]
  },
  {
   "cell_type": "code",
   "execution_count": 14,
   "metadata": {},
   "outputs": [],
   "source": [
    "# Skeleton\n",
    "def variance(data):\n",
    "    if not data:\n",
    "        return none\n",
    "    mean = sum(data)/len(data)\n",
    "    squared_diff = [(x - mean)**2 for x in data]\n",
    "    variance = sum(squared_diff)/len(values)\n",
    "    return variance \n",
    "    \n",
    "    \n",
    "    \n",
    "    ### BEGIN SOLUTION\n",
    "\n",
    "    # Fill in your solution here        \n",
    "    \n",
    "    ### END SOLUTION\n",
    "    \n"
   ]
  },
  {
   "cell_type": "code",
   "execution_count": 15,
   "metadata": {},
   "outputs": [
    {
     "name": "stdout",
     "output_type": "stream",
     "text": [
      "Variance: 18.0\n"
     ]
    }
   ],
   "source": [
    "# Test your solution here\n",
    "data = [3, 6, 9, 12, 15]\n",
    "variance_value = variance(data)\n",
    "print(\"Variance:\", variance_value)"
   ]
  },
  {
   "cell_type": "markdown",
   "metadata": {},
   "source": [
    "## Histogramming"
   ]
  },
  {
   "cell_type": "markdown",
   "metadata": {},
   "source": [
    "*Exercise 3:* Write a function that bins the data so that you can create a histogram. An example of how to implement histogramming is the following logic:\n",
    "\n",
    "* User inputs a list of values `x` and optionally `n_bins` which defaults to 10.\n",
    "* If not supplied, find the minimum and maximum (`x_min`,`x_max`) of the values in x.\n",
    "* Determine the bin size (`bin_size`) by dividing the range of the function by the number of bins.\n",
    "* Create an empty list of zeros of size `n_bins`, call it `hist`.\n",
    "* Loop over the values in `x`\n",
    "    * Loop over the values in `hist` with index `i`:\n",
    "        * If x is between `x_min+i*bin_size` and `x_min+(i+1)*bin_size`, increment `hist[i].` \n",
    "        * For efficiency, try to use continue to goto the next bin and data point.\n",
    "* Return `hist` and the list corresponding of the bin edges (i.e. of `x_min+i*bin_size`).    "
   ]
  },
  {
   "cell_type": "code",
   "execution_count": 1,
   "metadata": {},
   "outputs": [],
   "source": [
    "def create_histogram(x, n_bins=10):\n",
    "    x_min, x_max = min(x), max(x)\n",
    "    bin_size = (x_max - x_min)/n_bins\n",
    "    hist = [0]*n_bins\n",
    "    \n",
    "    bin_edges= [x_min + i*bin_size for i in range(n_bins)]\n",
    "    bin_edges.append(x_max)\n",
    "    \n",
    "    for value in x:\n",
    "        for i in range(n_bins):\n",
    "            if x_min + i*bin_size <= value < x_min + (i+1)*bin_size:\n",
    "                hist[i]+=1\n",
    "                break \n",
    "    return hist, bin_edges"
   ]
  },
  {
   "cell_type": "code",
   "execution_count": 2,
   "metadata": {},
   "outputs": [
    {
     "name": "stdout",
     "output_type": "stream",
     "text": [
      "Histogram: [2, 2, 2, 2, 1]\n",
      "Bin Edges: [1.0, 2.8, 4.6, 6.4, 8.2, 10]\n"
     ]
    }
   ],
   "source": [
    "# Test your solution here\n",
    "data = [1, 2, 3, 4, 5, 6, 7, 8, 9, 10]\n",
    "histogram, bin_edges = create_histogram(data, n_bins=5)\n",
    "print(\"Histogram:\", histogram)\n",
    "print(\"Bin Edges:\", bin_edges)"
   ]
  },
  {
   "cell_type": "markdown",
   "metadata": {},
   "source": [
    "*Exercise 4:* Write a function that uses the histogram function in the previous exercise to create a text-based \"graph\". For example the output could look like the following:\n",
    "```\n",
    "[  0,  1] : ######\n",
    "[  1,  2] : #####\n",
    "[  2,  3] : ######\n",
    "[  3,  4] : ####\n",
    "[  4,  5] : ####\n",
    "[  5,  6] : ######\n",
    "[  6,  7] : #####\n",
    "[  7,  8] : ######\n",
    "[  8,  9] : ####\n",
    "[  9, 10] : #####\n",
    "```\n",
    "\n",
    "Where each line corresponds to a bin and the number of `#`'s are proportional to the value of the data in the bin. "
   ]
  },
  {
   "cell_type": "code",
   "execution_count": 5,
   "metadata": {},
   "outputs": [],
   "source": [
    "# Solution\n",
    "def plot_histogram(histogram, bin_edges):\n",
    "    max_count = max(histogram)\n",
    "    bin_width = bin_edges[1] - bin_edges[0]\n",
    "    \n",
    "    for count, bin_edge in zip(histogram, bin_edges[:-1]):\n",
    "        bar = '#' * int((count /max_count)*50)\n",
    "        print(f\"{bin_edge:.2f} - {bin_edge + bin_width:.2f} | {bar} ({count})\")\n",
    "\n",
    "        "
   ]
  },
  {
   "cell_type": "code",
   "execution_count": 6,
   "metadata": {},
   "outputs": [
    {
     "name": "stdout",
     "output_type": "stream",
     "text": [
      "1.00 - 2.80 | ################################################## (2)\n",
      "2.80 - 4.60 | ################################################## (2)\n",
      "4.60 - 6.40 | ################################################## (2)\n",
      "6.40 - 8.20 | ################################################## (2)\n",
      "8.20 - 10.00 | ######################### (1)\n"
     ]
    }
   ],
   "source": [
    "# Test your solution here\n",
    "data = {1, 2, 3, 4, 5, 6, 7, 8, 9, 10}\n",
    "histogram, bin_edges = create_histogram(data, n_bins=5)\n",
    "plot_histogram(histogram, bin_edges)"
   ]
  },
  {
   "cell_type": "markdown",
   "metadata": {},
   "source": [
    "## Functional Programming\n",
    "\n",
    "*Exercise 5:* Write a function the applies a booling function (that returns true/false) to every element in data, and return a list of indices of elements where the result was true. Use this function to find the indices of entries greater than 0.5. "
   ]
  },
  {
   "cell_type": "code",
   "execution_count": 7,
   "metadata": {},
   "outputs": [],
   "source": [
    "def find_indices(data, boolean_function):\n",
    "    true_indices = [i for i, value in enumerate(data) if boolean_function(value)]\n",
    "    return true_indices\n",
    "\n",
    "def is_greater_than_half(value):\n",
    "    return value > 0.5"
   ]
  },
  {
   "cell_type": "code",
   "execution_count": 8,
   "metadata": {},
   "outputs": [
    {
     "name": "stdout",
     "output_type": "stream",
     "text": [
      "Indices of entries greater than 0.5: [1, 3, 4]\n"
     ]
    }
   ],
   "source": [
    "data = [0.2, 0.6, 0.3, 0.8, 0.7, 0.1]\n",
    "indices = find_indices(data, is_greater_than_half)\n",
    "print(\"Indices of entries greater than 0.5:\", indices)"
   ]
  },
  {
   "cell_type": "markdown",
   "metadata": {},
   "source": [
    "*Exercise 6:* The `inrange(mymin,mymax)` function below returns a function that tests if it's input is between the specified values. Write corresponding functions that test:\n",
    "* Even\n",
    "* Odd\n",
    "* Greater than\n",
    "* Less than\n",
    "* Equal\n",
    "* Divisible by"
   ]
  },
  {
   "cell_type": "code",
   "execution_count": 9,
   "metadata": {},
   "outputs": [],
   "source": [
    "def inrange(mymin, mymax):\n",
    "    def is_in_range(x):\n",
    "        return mymin <= x <= mymax\n",
    "    return is_in_range\n",
    "\n",
    "def even():\n",
    "    def is_even(x):\n",
    "        return x % 2 == 0\n",
    "    return is_even\n",
    "\n",
    "def odd():\n",
    "    def is_odd(x):\n",
    "        return x % 2 != 0\n",
    "    return is_odd\n",
    "\n",
    "def greater_than(value):\n",
    "    def is_greater_than(x):\n",
    "        return x > value\n",
    "    return is_greater_than\n",
    "\n",
    "def less_than(value):\n",
    "    def is_less_than(x):\n",
    "        return x < value\n",
    "    return is_less_than\n",
    "\n",
    "def equal(value):\n",
    "    def is_equal(x):\n",
    "        return x == value\n",
    "    return is_equal\n",
    "\n",
    "def divisible_by(divisor):\n",
    "    def is_divisible_by(x):\n",
    "        return x % divisor == 0\n",
    "    return is_divisible_by"
   ]
  },
  {
   "cell_type": "code",
   "execution_count": 10,
   "metadata": {},
   "outputs": [
    {
     "name": "stdout",
     "output_type": "stream",
     "text": [
      "2:\n",
      "In range (1 to 5): True\n",
      "Even: True\n",
      "Odd: False\n",
      "Greater than 10: False\n",
      "Less than 20: True\n",
      "Equal to 15: False\n",
      "Divisible by 3: False\n",
      "\n",
      "4:\n",
      "In range (1 to 5): True\n",
      "Even: True\n",
      "Odd: False\n",
      "Greater than 10: False\n",
      "Less than 20: True\n",
      "Equal to 15: False\n",
      "Divisible by 3: False\n",
      "\n",
      "6:\n",
      "In range (1 to 5): False\n",
      "Even: True\n",
      "Odd: False\n",
      "Greater than 10: False\n",
      "Less than 20: True\n",
      "Equal to 15: False\n",
      "Divisible by 3: True\n",
      "\n",
      "7:\n",
      "In range (1 to 5): False\n",
      "Even: False\n",
      "Odd: True\n",
      "Greater than 10: False\n",
      "Less than 20: True\n",
      "Equal to 15: False\n",
      "Divisible by 3: False\n",
      "\n",
      "10:\n",
      "In range (1 to 5): False\n",
      "Even: True\n",
      "Odd: False\n",
      "Greater than 10: False\n",
      "Less than 20: True\n",
      "Equal to 15: False\n",
      "Divisible by 3: False\n",
      "\n",
      "12:\n",
      "In range (1 to 5): False\n",
      "Even: True\n",
      "Odd: False\n",
      "Greater than 10: True\n",
      "Less than 20: True\n",
      "Equal to 15: False\n",
      "Divisible by 3: True\n",
      "\n",
      "15:\n",
      "In range (1 to 5): False\n",
      "Even: False\n",
      "Odd: True\n",
      "Greater than 10: True\n",
      "Less than 20: True\n",
      "Equal to 15: True\n",
      "Divisible by 3: True\n",
      "\n"
     ]
    }
   ],
   "source": [
    "is_in_1_to_5 = inrange(1, 5)\n",
    "is_even_func = even()\n",
    "is_odd_func = odd()\n",
    "is_greater_than_10 = greater_than(10)\n",
    "is_less_than_20 = less_than(20)\n",
    "is_equal_to_15 = equal(15)\n",
    "is_divisible_by_3 = divisible_by(3)\n",
    "\n",
    "values = [2, 4, 6, 7, 10, 12, 15]\n",
    "\n",
    "for value in values:\n",
    "    print(f\"{value}:\")\n",
    "    print(\"In range (1 to 5):\", is_in_1_to_5(value))\n",
    "    print(\"Even:\", is_even_func(value))\n",
    "    print(\"Odd:\", is_odd_func(value))\n",
    "    print(\"Greater than 10:\", is_greater_than_10(value))\n",
    "    print(\"Less than 20:\", is_less_than_20(value))\n",
    "    print(\"Equal to 15:\", is_equal_to_15(value))\n",
    "    print(\"Divisible by 3:\", is_divisible_by_3(value))\n",
    "    print()"
   ]
  },
  {
   "cell_type": "code",
   "execution_count": null,
   "metadata": {},
   "outputs": [],
   "source": [
    "# Test your solution"
   ]
  },
  {
   "cell_type": "markdown",
   "metadata": {},
   "source": [
    "*Exercise 7:* Repeat the previous exercise using `lambda` and the built-in python functions sum and map instead of your solution above. "
   ]
  },
  {
   "cell_type": "code",
   "execution_count": 11,
   "metadata": {},
   "outputs": [],
   "source": [
    "def inrange(mymin, mymax):\n",
    "    return lambda x: mymin <= x <= mymax\n",
    "\n",
    "even = lambda x: x % 2 == 0\n",
    "odd = lambda x: x % 2 != 0\n",
    "\n",
    "greater_than = lambda value: lambda x: x > value\n",
    "less_than = lambda value: lambda x: x < value\n",
    "equal = lambda value: lambda x: x == value\n",
    "divisible_by = lambda divisor: lambda x: x % divisor == 0"
   ]
  },
  {
   "cell_type": "code",
   "execution_count": 12,
   "metadata": {},
   "outputs": [
    {
     "name": "stdout",
     "output_type": "stream",
     "text": [
      "2:\n",
      "In range (1 to 5): True\n",
      "Even: True\n",
      "Odd: False\n",
      "Greater than 10: False\n",
      "Less than 20: True\n",
      "Equal to 15: False\n",
      "Divisible by 3: False\n",
      "\n",
      "4:\n",
      "In range (1 to 5): True\n",
      "Even: True\n",
      "Odd: False\n",
      "Greater than 10: False\n",
      "Less than 20: True\n",
      "Equal to 15: False\n",
      "Divisible by 3: False\n",
      "\n",
      "6:\n",
      "In range (1 to 5): False\n",
      "Even: True\n",
      "Odd: False\n",
      "Greater than 10: False\n",
      "Less than 20: True\n",
      "Equal to 15: False\n",
      "Divisible by 3: True\n",
      "\n",
      "7:\n",
      "In range (1 to 5): False\n",
      "Even: False\n",
      "Odd: True\n",
      "Greater than 10: False\n",
      "Less than 20: True\n",
      "Equal to 15: False\n",
      "Divisible by 3: False\n",
      "\n",
      "10:\n",
      "In range (1 to 5): False\n",
      "Even: True\n",
      "Odd: False\n",
      "Greater than 10: False\n",
      "Less than 20: True\n",
      "Equal to 15: False\n",
      "Divisible by 3: False\n",
      "\n",
      "12:\n",
      "In range (1 to 5): False\n",
      "Even: True\n",
      "Odd: False\n",
      "Greater than 10: True\n",
      "Less than 20: True\n",
      "Equal to 15: False\n",
      "Divisible by 3: True\n",
      "\n",
      "15:\n",
      "In range (1 to 5): False\n",
      "Even: False\n",
      "Odd: True\n",
      "Greater than 10: True\n",
      "Less than 20: True\n",
      "Equal to 15: True\n",
      "Divisible by 3: True\n",
      "\n"
     ]
    }
   ],
   "source": [
    "is_in_1_to_5 = inrange(1, 5)\n",
    "is_even_func = even\n",
    "is_odd_func = odd\n",
    "is_greater_than_10 = greater_than(10)\n",
    "is_less_than_20 = less_than(20)\n",
    "is_equal_to_15 = equal(15)\n",
    "is_divisible_by_3 = divisible_by(3)\n",
    "\n",
    "values = [2, 4, 6, 7, 10, 12, 15]\n",
    "\n",
    "for value in values:\n",
    "    print(f\"{value}:\")\n",
    "    print(\"In range (1 to 5):\", is_in_1_to_5(value))\n",
    "    print(\"Even:\", is_even_func(value))\n",
    "    print(\"Odd:\", is_odd_func(value))\n",
    "    print(\"Greater than 10:\", is_greater_than_10(value))\n",
    "    print(\"Less than 20:\", is_less_than_20(value))\n",
    "    print(\"Equal to 15:\", is_equal_to_15(value))\n",
    "    print(\"Divisible by 3:\", is_divisible_by_3(value))\n",
    "    print()"
   ]
  },
  {
   "cell_type": "markdown",
   "metadata": {},
   "source": [
    "## Monte Carlo\n",
    "\n",
    "*Exercise 7:* Write a \"generator\" function called `generate_function(func,x_min,x_max,N)`, that instead of generating a flat distribution, generates a distribution with functional form coded in `func`. Note that `func` will always be > 0.  \n",
    "\n",
    "Use the test function below and your histogramming functions above to demonstrate that your generator is working properly.\n",
    "\n",
    "Hint: A simple, but slow, solution is to a draw random number `test_x` within the specified range and another number `p` between the `min` and `max` of the function (which you will have to determine). If `p<=function(test_x)`, then place `test_x` on the output. If not, repeat the process, drawing two new numbers. Repeat until you have the specified number of generated numbers, `N`. For this problem, it's OK to determine the `min` and `max` by numerically sampling the function.  "
   ]
  },
  {
   "cell_type": "code",
   "execution_count": 13,
   "metadata": {},
   "outputs": [],
   "source": [
    "import random\n",
    "\n",
    "def generate_function(func, x_min, x_max, N):\n",
    "    generated_values = []\n",
    "    min_y = max_y = func(x_min)\n",
    "    \n",
    "    for _ in range(N):\n",
    "        while True:\n",
    "            test_x = random.uniform(x_min, x_max)\n",
    "            p = random.uniform(min_y, max_y)\n",
    "            \n",
    "            if p <= func(test_x):\n",
    "                generated_values.append(test_x)\n",
    "                break\n",
    "        min_y = min(min_y, func(test_x))\n",
    "        max_y = max(max_y, func(test_x))\n",
    "    \n",
    "    return generated_values\n",
    "\n"
   ]
  },
  {
   "cell_type": "code",
   "execution_count": 15,
   "metadata": {},
   "outputs": [
    {
     "name": "stdout",
     "output_type": "stream",
     "text": [
      "1.07 - 1.43 |  (1)\n",
      "1.43 - 1.79 |  (2)\n",
      "1.79 - 2.15 |  (1)\n",
      "2.15 - 2.52 |  (2)\n",
      "2.52 - 2.88 | ##### (14)\n",
      "2.88 - 3.24 | ########## (29)\n",
      "3.24 - 3.60 | ################## (51)\n",
      "3.60 - 3.96 | ##################### (59)\n",
      "3.96 - 4.33 | ##################################### (105)\n",
      "4.33 - 4.69 | ################################################ (135)\n",
      "4.69 - 5.05 | ################################################## (140)\n",
      "5.05 - 5.41 | ############################################## (129)\n",
      "5.41 - 5.77 | ####################################### (110)\n",
      "5.77 - 6.14 | ################################## (97)\n",
      "6.14 - 6.50 | ##################### (61)\n",
      "6.50 - 6.86 | ######## (24)\n",
      "6.86 - 7.22 | ####### (20)\n",
      "7.22 - 7.58 | #### (12)\n",
      "7.58 - 7.95 | # (5)\n",
      "7.95 - 8.31 |  (2)\n"
     ]
    }
   ],
   "source": [
    "# A test function\n",
    "def test_func(x):\n",
    "    mu = 5.0\n",
    "    sigma = 1.0\n",
    "    return 1.0 / (sigma * (2 * 3.14159)**0.5) * \\\n",
    "           2.71828**(-0.5 * ((x - mu) / sigma)**2)\n",
    "\n",
    "N = 1000  # Number of generated values\n",
    "x_min = 0\n",
    "x_max = 10\n",
    "generated_values = generate_function(test_func, x_min, x_max, N)\n",
    "\n",
    "histogram, bin_edges = create_histogram(generated_values, n_bins=20)\n",
    "plot_histogram(histogram, bin_edges)\n"
   ]
  },
  {
   "cell_type": "markdown",
   "metadata": {},
   "source": [
    "*Exercise 8:* Use your function to generate 1000 numbers that are normal distributed, using the `gaussian` function below. Confirm the mean and variance of the data is close to the mean and variance you specify when building the Gaussian. Histogram the data. "
   ]
  },
  {
   "cell_type": "code",
   "execution_count": 16,
   "metadata": {},
   "outputs": [
    {
     "name": "stdout",
     "output_type": "stream",
     "text": [
      "Specified Mean: 0, Generated Mean: -0.00276855801622105\n",
      "Specified Variance: 1, Generated Variance: 0.8791781435706553\n"
     ]
    },
    {
     "data": {
      "image/png": "[encoded data removed]",
      "text/plain": [
       "<Figure size 640x480 with 1 Axes>"
      ]
     },
     "metadata": {},
     "output_type": "display_data"
    }
   ],
   "source": [
    "import random\n",
    "import numpy as np\n",
    "import matplotlib.pyplot as plt\n",
    "\n",
    "def gaussian(x, mu, sigma):\n",
    "    return 1.0 / (sigma * (2 * np.pi)**0.5) * np.exp(-0.5 * ((x - mu) / sigma)**2)\n",
    "N = 1000\n",
    "x_min = -3\n",
    "x_max = 3\n",
    "\n",
    "mu = 0\n",
    "sigma = 1\n",
    "generated_values = generate_function(lambda x: gaussian(x, mu, sigma), x_min, x_max, N)\n",
    "\n",
    "mean_generated = np.mean(generated_values)\n",
    "variance_generated = np.var(generated_values)\n",
    "\n",
    "print(f\"Specified Mean: {mu}, Generated Mean: {mean_generated}\")\n",
    "print(f\"Specified Variance: {sigma**2}, Generated Variance: {variance_generated}\")\n",
    "\n",
    "histogram, bin_edges = create_histogram(generated_values, n_bins=20)\n",
    "\n",
    "plt.hist(generated_values, bins=bin_edges, density=True, alpha=0.6, color='g')\n",
    "plt.plot(np.linspace(x_min, x_max, 1000), [gaussian(x, mu, sigma) for x in np.linspace(x_min, x_max, 1000)], 'r')\n",
    "plt.xlabel(\"Value\")\n",
    "plt.ylabel(\"Frequency\")\n",
    "plt.title(\"Histogram of Generated Gaussian Data\")\n",
    "plt.show()\n"
   ]
  },
  {
   "cell_type": "code",
   "execution_count": null,
   "metadata": {},
   "outputs": [],
   "source": []
  },
  {
   "cell_type": "markdown",
   "metadata": {},
   "source": [
    "*Exercise 9:* Combine your `generate_function`, `where`, and `in_range` functions above to create an integrate function. Use your integrate function to show that approximately 68% of Normal distribution is within one variance."
   ]
  },
  {
   "cell_type": "code",
   "execution_count": 17,
   "metadata": {},
   "outputs": [
    {
     "name": "stdout",
     "output_type": "stream",
     "text": [
      "Approximately 100.00% of the Gaussian distribution is within one standard deviation.\n"
     ]
    }
   ],
   "source": [
    "import random\n",
    "\n",
    "def generate_function(func, x_min, x_max, N):\n",
    "    generated_values = []\n",
    "    min_y = max_y = func(x_min)\n",
    "    \n",
    "    for _ in range(N):\n",
    "        while True:\n",
    "            test_x = random.uniform(x_min, x_max)\n",
    "            p = random.uniform(min_y, max_y)\n",
    "            \n",
    "            if p <= func(test_x):\n",
    "                generated_values.append(test_x)\n",
    "                break\n",
    "                \n",
    "        min_y = min(min_y, func(test_x))\n",
    "        max_y = max(max_y, func(test_x))\n",
    "    \n",
    "    return generated_values\n",
    "\n",
    "def where(func, data):\n",
    "    return [x for x in data if func(x)]\n",
    "\n",
    "def inrange(mymin, mymax):\n",
    "    return lambda x: mymin <= x <= mymax\n",
    "\n",
    "def integrate(func, x_min, x_max, N=10000):\n",
    "    generated_values = generate_function(func, x_min, x_max, N)\n",
    "    in_range_values = where(inrange(x_min, x_max), generated_values)\n",
    "    return len(in_range_values) / N\n",
    "\n",
    "# Gaussian function\n",
    "def gaussian(x, mu, sigma):\n",
    "    return 1.0 / (sigma * (2 * 3.14159)**0.5) * 2.71828**(-0.5 * ((x - mu) / sigma)**2)\n",
    "\n",
    "# Calculate the area under the Gaussian curve within one standard deviation\n",
    "mu = 0\n",
    "sigma = 1\n",
    "x_min = mu - sigma\n",
    "x_max = mu + sigma\n",
    "area_within_one_std = integrate(lambda x: gaussian(x, mu, sigma), x_min, x_max)\n",
    "\n",
    "print(f\"Approximately {area_within_one_std * 100:.2f}% of the Gaussian distribution is within one standard deviation.\")\n"
   ]
  },
  {
   "cell_type": "code",
   "execution_count": null,
   "metadata": {},
   "outputs": [],
   "source": []
  }
 ],
 "metadata": {
  "kernelspec": {
   "display_name": "Python 3 (ipykernel)",
   "language": "python",
   "name": "python3"
  },
  "language_info": {
   "codemirror_mode": {
    "name": "ipython",
    "version": 3
   },
   "file_extension": ".py",
   "mimetype": "text/x-python",
   "name": "python",
   "nbconvert_exporter": "python",
   "pygments_lexer": "ipython3",
   "version": "3.9.13"
  }
 },
 "nbformat": 4,
 "nbformat_minor": 2
}
