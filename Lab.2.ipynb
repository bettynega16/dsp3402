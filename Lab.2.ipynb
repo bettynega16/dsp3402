{
 "cells": [
  {
   "cell_type": "markdown",
   "metadata": {},
   "source": [
    "## Lab 2- Tic Tac Toe\n",
    "\n",
    "In this lab your will build a n x n Tic Tac Toe game. As you do the exercises, make sure your solutions work for any size Tic Tac Toe game. "
   ]
  },
  {
   "cell_type": "markdown",
   "metadata": {},
   "source": [
    "*Exercise 1:* Write a function that creates an n by n matrix (of list of lists) which will represent the state of a Tie Tac Toe game. Let 0, 1, and 2 represent empty, \"X\", and \"O\", respectively.\n"
   ]
  },
  {
   "cell_type": "code",
   "execution_count": 20,
   "metadata": {},
   "outputs": [],
   "source": [
    "#write your solution here \n"
   ]
  },
  {
   "cell_type": "code",
   "execution_count": 21,
   "metadata": {},
   "outputs": [],
   "source": [
    "# Test your solution here\n"
   ]
  },
  {
   "cell_type": "code",
   "execution_count": 36,
   "metadata": {},
   "outputs": [
    {
     "name": "stdout",
     "output_type": "stream",
     "text": [
      "[0, 0, 0]\n",
      "[0, 0, 0]\n",
      "[0, 0, 0]\n"
     ]
    }
   ],
   "source": [
    "def tic_tac(n):\n",
    "    if n<3:\n",
    "        raise valueError(\"The board size must be at least 3x3.\")\n",
    "    board= [[0]*n for _ in range (n)]\n",
    "    \n",
    "    return board \n",
    "\n",
    "n = 3\n",
    "tic_tac = tic_tac(n)\n",
    "\n",
    "for row in tic_tac:\n",
    "    print(row)\n",
    "    \n",
    "        "
   ]
  },
  {
   "cell_type": "markdown",
   "metadata": {},
   "source": [
    "*Exercise 2:* Write a function that takes 2 integers `n` and `m` as input and draws a `n` by `m` game board. For example the following is a 3x3 board:\n",
    "```\n",
    "   --- --- --- \n",
    "  |   |   |   | \n",
    "   --- --- ---  \n",
    "  |   |   |   | \n",
    "   --- --- ---  \n",
    "  |   |   |   | \n",
    "   --- --- --- \n",
    "   ```"
   ]
  },
  {
   "cell_type": "code",
   "execution_count": 133,
   "metadata": {},
   "outputs": [],
   "source": [
    "def game_board(n,m):\n",
    "    for i in range(n):\n",
    "        print (\" --- \"*m)\n",
    "        \n",
    "        for j in range (m):\n",
    "            print (\"|  \", end = \" \")\n",
    "            \n",
    "        print (\" | \")\n",
    "        \n",
    "    print (\" --- \"*m)\n",
    "\n",
    "\n",
    "    \n",
    "    \n",
    "\n",
    "    "
   ]
  },
  {
   "cell_type": "code",
   "execution_count": 134,
   "metadata": {},
   "outputs": [
    {
     "name": "stdout",
     "output_type": "stream",
     "text": [
      " ---  ---  --- \n",
      "|   |   |    | \n",
      " ---  ---  --- \n",
      "|   |   |    | \n",
      " ---  ---  --- \n",
      "|   |   |    | \n",
      " ---  ---  --- \n"
     ]
    }
   ],
   "source": [
    "n = 3\n",
    "m = 3\n",
    "game_board(n,m)"
   ]
  },
  {
   "cell_type": "markdown",
   "metadata": {},
   "source": [
    "*Exercise 3:* Modify exercise 2, so that it takes a matrix of the form from exercise 1 and draws a tic-tac-tie board with \"X\"s and \"O\"s.  "
   ]
  },
  {
   "cell_type": "code",
   "execution_count": 149,
   "metadata": {},
   "outputs": [],
   "source": [
    "def draw_tic_tac(board):\n",
    "    n = len (board)\n",
    "    m = len(board[0])\n",
    "    \n",
    "   \n",
    "    for i in range(n):\n",
    "        print (\" ---\"*m)\n",
    "        \n",
    "        for j in range(m):\n",
    "\n",
    "            if board[i][j] == 0:\n",
    "                print (\"| \", end = \" \")\n",
    "            elif board[i][j] == 1:\n",
    "                print(\"| X\", end = \" \")\n",
    "            elif board[i][j] == 2:\n",
    "                print(\"| O\", end = \" \")\n",
    "    \n",
    "            \n",
    "        print (\"|\")\n",
    "    print(\" ---\"*m)"
   ]
  },
  {
   "cell_type": "code",
   "execution_count": 150,
   "metadata": {},
   "outputs": [
    {
     "name": "stdout",
     "output_type": "stream",
     "text": [
      " --- --- ---\n",
      "| X |  | O |\n",
      " --- --- ---\n",
      "| O | X |  |\n",
      " --- --- ---\n",
      "| X | O | X |\n",
      " --- --- ---\n"
     ]
    }
   ],
   "source": [
    "n = 3\n",
    "m = 3\n",
    "tic_tac_board = [\n",
    "    [1, 0, 2],\n",
    "    [2, 1, 0],\n",
    "    [1, 2, 1]\n",
    "] \n",
    "draw_tic_tac(tic_tac_board)"
   ]
  },
  {
   "cell_type": "markdown",
   "metadata": {},
   "source": [
    "*Exercise 4:* Write a function that takes a `n` by `n` matrix representing a tic-tac-toe game, and returns -1, 0, 1, or 2 indicating the game is incomplete, the game is a draw, player 1 has won, or player 2 has one, respectively. Here are some example inputs you can use to test your code:"
   ]
  },
  {
   "cell_type": "code",
   "execution_count": 5,
   "metadata": {},
   "outputs": [],
   "source": [
    "def tic_tac_game(matrix):\n",
    "    n = len (matrix)\n",
    "    \n",
    "    for i in range(n):\n",
    "        if all(matrix[i][j] == matrix[i][0] and matrix[i][j] != 0 for j in range(n)):\n",
    "            return matrix [i][0]\n",
    "        if all(matrix[j][i] == matrix[0][i] and matrix[j][i] != 0 for j in range(n)):\n",
    "            return matrix[0][i]\n",
    "        \n",
    "    if all(matrix[i][i] == matrix[0][0] and matrix[i][i] != 0 for i in range(n)):\n",
    "        return matrix[0][0]\n",
    "    if all(matrix[i][n-i-1] == matrix[0][n-1] and matrix[i][n - i - 1] != 0 for i in range(n)):\n",
    "        return matrix[0][n-1]\n",
    "    \n",
    "    for row in matrix:\n",
    "        if 0 in row:\n",
    "            return -1\n",
    "    \n",
    "    return 0 \n",
    "        "
   ]
  },
  {
   "cell_type": "code",
   "execution_count": 6,
   "metadata": {},
   "outputs": [
    {
     "name": "stdout",
     "output_type": "stream",
     "text": [
      "2\n"
     ]
    }
   ],
   "source": [
    "winner_is_2 = [[2,2,0],\n",
    " [2,1,0],\n",
    " [2,1,1]]\n",
    "print (tic_tac_game(winner_is_2))"
   ]
  },
  {
   "cell_type": "code",
   "execution_count": 7,
   "metadata": {},
   "outputs": [
    {
     "name": "stdout",
     "output_type": "stream",
     "text": [
      "1\n"
     ]
    }
   ],
   "source": [
    "winner_is_1 = [[1,2,0],\n",
    "              [2,1,0],\n",
    "              [2,1,1]]\n",
    "print (tic_tac_game(winner_is_1))"
   ]
  },
  {
   "cell_type": "code",
   "execution_count": null,
   "metadata": {
    "collapsed": true
   },
   "outputs": [],
   "source": [
    "winner_is_2 = [[2, 2, 0],\n",
    "\t[2, 1, 0],\n",
    "\t[2, 1, 1]]\n",
    "\n",
    "winner_is_1 = [[1, 2, 0],\n",
    "\t[2, 1, 0],\n",
    "\t[2, 1, 1]]\n",
    "\n",
    "winner_is_also_1 = [[0, 1, 0],\n",
    "\t[2, 1, 0],\n",
    "\t[2, 1, 1]]\n",
    "\n",
    "no_winner = [[1, 2, 0],\n",
    "\t[2, 1, 0],\n",
    "\t[2, 1, 2]]\n",
    "\n",
    "also_no_winner = [[1, 2, 0],\n",
    "\t[2, 1, 0],\n",
    "\t[2, 1, 0]]"
   ]
  },
  {
   "cell_type": "markdown",
   "metadata": {},
   "source": [
    "*Exercise 5:* Write a function that takes a game board, player number, and `(x,y)` coordinates and places \"X\" or \"O\" in the correct location of the game board. Make sure that you only allow filling previously empty locations. Return `True` or `False` to indicate successful placement of \"X\" or \"O\"."
   ]
  },
  {
   "cell_type": "code",
   "execution_count": 9,
   "metadata": {},
   "outputs": [],
   "source": [
    "def place_symbol(board, player, x, y):\n",
    "    n = len(board)\n",
    "    \n",
    "    if x < 0 or x >=n or y < 0 or y >= n:\n",
    "        return False \n",
    "    \n",
    "    if board[x][y] == 0:\n",
    "        if player ==1:\n",
    "            board[x][y] = \"X\"\n",
    "        elif player == 2:\n",
    "            board[x][y] = \"O\"\n",
    "        return True \n",
    "    else:\n",
    "        return False\n",
    "        "
   ]
  },
  {
   "cell_type": "code",
   "execution_count": 10,
   "metadata": {},
   "outputs": [
    {
     "name": "stdout",
     "output_type": "stream",
     "text": [
      "True\n"
     ]
    }
   ],
   "source": [
    "n = 3\n",
    "game_board = [[0]*n for _ in range(n)]\n",
    "print (place_symbol(game_board, 1, 0, 0,))"
   ]
  },
  {
   "cell_type": "markdown",
   "metadata": {},
   "source": [
    "*Exercise 6:* Modify Exercise 4 to show column and row labels so that players can specify location using \"A2\" or \"C1\"."
   ]
  },
  {
   "cell_type": "code",
   "execution_count": 18,
   "metadata": {},
   "outputs": [],
   "source": [
    "def tic_tac_game(matrix):\n",
    "    n = len (matrix)\n",
    "    \n",
    "    for i in range(n):\n",
    "        if all(matrix[i][j] == matrix[i][0] and matrix[i][j] != 0 for j in range(n)):\n",
    "            return matrix [i][0]\n",
    "        if all(matrix[j][i] == matrix[0][i] and matrix[j][i] != 0 for j in range(n)):\n",
    "            return matrix[0][i]\n",
    "        \n",
    "    if all(matrix[i][i] == matrix[0][0] and matrix[i][i] != 0 for i in range(n)):\n",
    "        return matrix[0][0]\n",
    "    if all(matrix[i][n-i-1] == matrix[0][n-1] and matrix[i][n - i - 1] != 0 for i in range(n)):\n",
    "        return matrix[0][n-1]\n",
    "    \n",
    "    for row in matrix:\n",
    "        if 0 in row:\n",
    "            return -1\n",
    "    \n",
    "    return 0 \n",
    "        \n",
    "\n",
    "def convert_input_to_coordinates(input_str):\n",
    "    if len(input_str) != 2:\n",
    "        return None\n",
    "    \n",
    "    col_label, row_label = input_str[0].upper(), input_str[1]\n",
    "    \n",
    "    if col_label not in label_to_index or not row_label.isdigit():\n",
    "        return None\n",
    "    \n",
    "    col_index = label_to_index[col_label]\n",
    "    row_index = int(row_label) -1\n",
    "    \n",
    "    return row_index, col_index"
   ]
  },
  {
   "cell_type": "code",
   "execution_count": 19,
   "metadata": {},
   "outputs": [
    {
     "name": "stdout",
     "output_type": "stream",
     "text": [
      "Result: X\n"
     ]
    }
   ],
   "source": [
    "n = 3\n",
    "tic_tac_board = [\n",
    "    [\"X\", \"O\", \"X\"],\n",
    "    [\"O\", \"X\", \"O\"],\n",
    "    [\"X\", \"O\", \"X\"]\n",
    "]\n",
    "result = tic_tac_game(tic_tac_board)\n",
    "print(\"Result:\", result)"
   ]
  },
  {
   "cell_type": "markdown",
   "metadata": {},
   "source": [
    "*Exercise 7:* Write a function that takes a board, player number, and location specified as in exercise 6 and then calls exercise 5 to correctly modify the board.  "
   ]
  },
  {
   "cell_type": "code",
   "execution_count": 26,
   "metadata": {},
   "outputs": [],
   "source": [
    "def place_symbol(board, player, row_label, col_num):\n",
    "    num_rows = len(board)\n",
    "    num_cols = len(board[0])\n",
    "    \n",
    "    row_index = ord(row_label) - ord( 'A')\n",
    "    \n",
    "    col_index = col_num - 1\n",
    "    \n",
    "    if 0 <= row_index < num_rows and 0 <= col_index < num_cols and board[row_index][col_index] == 0:\n",
    "        board[row_index][col_index] = player \n",
    "        return True \n",
    "    \n",
    "    else:\n",
    "        return False "
   ]
  },
  {
   "cell_type": "code",
   "execution_count": 28,
   "metadata": {},
   "outputs": [
    {
     "name": "stdout",
     "output_type": "stream",
     "text": [
      "[0, 1, 0]\n",
      "[0, 0, 0]\n",
      "[0, 0, 0]\n"
     ]
    }
   ],
   "source": [
    "n = 3\n",
    "tic_tac_board = [\n",
    "    [0, 0, 0],\n",
    "    [0, 0, 0],\n",
    "    [0, 0, 0]\n",
    "]\n",
    "\n",
    "row_label = \"A\"\n",
    "col_num = 2\n",
    "player = 1\n",
    "\n",
    "if place_symbol(tic_tac_board, player, row_label, col_num):\n",
    "    for row in tic_tac_board:\n",
    "        print(row)\n",
    "else:\n",
    "    print(\"Invalid move.\")"
   ]
  },
  {
   "cell_type": "markdown",
   "metadata": {},
   "source": [
    "*Exercise 8:* Write a function is called with a board and player number, takes input from the player using python's `input`, and modifies the board using your function from exercise 7. Note that you should keep asking for input until you have gotten a valid input that results in a valid move."
   ]
  },
  {
   "cell_type": "code",
   "execution_count": 31,
   "metadata": {},
   "outputs": [],
   "source": [
    "def place_symbol(board, player):\n",
    "    num_rows = len(board)\n",
    "    num_cols = len(board[0])\n",
    "    \n",
    "    while True:\n",
    "        try:\n",
    "            move = input(f\"Player {player}, enter your move (e.g., 'A2'): \")\n",
    "            if len(move) != 2:\n",
    "                raise ValueError(\"Invalid input format. Plase use 'A2' format.\")\n",
    "                \n",
    "            row_label, col_num = move[0].upper(), int(move[1])\n",
    "            \n",
    "            row_index = ord(row_label) - ord('A')\n",
    "            \n",
    "            col_index = col_num -1 \n",
    "            \n",
    "            if 0<= row_index < num_rows and 0 <= col_index < num_cols and board[row_index][col_index] == 0:\n",
    "                board[row_index][col_index] = player\n",
    "                return True \n",
    "            else:\n",
    "                print(\"Invalid move. Please try again.\")\n",
    "        except ValueError as e:\n",
    "            print(e)"
   ]
  },
  {
   "cell_type": "code",
   "execution_count": 33,
   "metadata": {},
   "outputs": [
    {
     "name": "stdout",
     "output_type": "stream",
     "text": [
      "Player 1, enter your move (e.g., 'A2'): A2\n",
      "[0, 1, 0]\n",
      "[0, 0, 0]\n",
      "[0, 0, 0]\n"
     ]
    }
   ],
   "source": [
    "n = 3\n",
    "tic_tac_board = [\n",
    "    [0, 0, 0],\n",
    "    [0, 0, 0],\n",
    "    [0, 0, 0]\n",
    "]\n",
    "\n",
    "player = 1\n",
    "\n",
    "if place_symbol(tic_tac_board, player):\n",
    "    for row in tic_tac_board:\n",
    "        print(row)"
   ]
  },
  {
   "cell_type": "markdown",
   "metadata": {},
   "source": [
    "*Exercise 9:* Use all of the previous exercises to implement a full tic-tac-toe game, where an appropriate board is drawn, 2 players are repeatedly asked for a location coordinates of where they wish to place a mark, and the game status is checked until a player wins or a draw occurs."
   ]
  },
  {
   "cell_type": "code",
   "execution_count": null,
   "metadata": {},
   "outputs": [],
   "source": [
    "def draw_board(board):\n",
    "    for row in board:\n",
    "        print(\" | \".join(row))\n",
    "        if row != board[-1]:\n",
    "            print(\"---------\")\n",
    "\n",
    "def check_win(board, player):\n",
    "    # Check rows, columns, and diagonals for a win\n",
    "    for i in range(3):\n",
    "        if all(board[i][j] == player for j in range(3)) or all(board[j][i] == player for j in range(3)):\n",
    "            return True\n",
    "    if all(board[i][i] == player for i in range(3)) or all(board[i][2 - i] == player for i in range(3)):\n",
    "        return True\n",
    "    return False\n",
    "\n",
    "def is_draw(board):\n",
    "    return all(board[i][j] != \"\" for i in range(3) for j in range(3))\n",
    "\n",
    "def tic_tac_toe():\n",
    "    board = [[\"\", \"\", \"\"], [\"\", \"\", \"\"], [\"\", \"\", \"\"]]\n",
    "    current_player = \"X\"\n",
    "\n",
    "    print(\"Welcome to Tic-Tac-Toe!\")\n",
    "    draw_board(board)\n",
    "\n",
    "    while True:\n",
    "        while True:\n",
    "            try:\n",
    "                move = input(f\"Player {current_player}, enter your move (e.g., 'A1'): \")\n",
    "                if len(move) != 2 or not move[0].isalpha() or not move[1].isdigit():\n",
    "                    raise ValueError(\"Invalid input format. Please use 'A1' format.\")\n",
    "                \n",
    "                col_label, row_label = move[0].upper(), move[1]\n",
    "                col_index = ord(col_label) - ord('A')\n",
    "                row_index = int(row_label) - 1\n",
    "                \n",
    "                if not (0 <= col_index < 3 and 0 <= row_index < 3) or board[row_index][col_index] != \"\":\n",
    "                    raise ValueError(\"Invalid move. Please try again.\")\n",
    "                \n",
    "                board[row_index][col_index] = current_player\n",
    "                draw_board(board)\n",
    "                break\n",
    "            except ValueError as e:\n",
    "                print(e)\n",
    "        \n",
    "        if check_win(board, current_player):\n",
    "            print(f\"Player {current_player} wins!\")\n",
    "            break\n",
    "        elif is_draw(board):\n",
    "            print(\"It's a draw!\")\n",
    "            break\n",
    "        \n",
    "        current_player = \"O\" if current_player == \"X\" else \"X\"\n",
    "\n",
    "if __name__ == \"__main__\":\n",
    "    tic_tac_toe()\n"
   ]
  },
  {
   "cell_type": "code",
   "execution_count": null,
   "metadata": {},
   "outputs": [],
   "source": []
  },
  {
   "cell_type": "markdown",
   "metadata": {},
   "source": [
    "*Exercise 10:* Test that your game works for 5x5 Tic Tac Toe.  "
   ]
  },
  {
   "cell_type": "code",
   "execution_count": null,
   "metadata": {
    "collapsed": true
   },
   "outputs": [],
   "source": [
    "# Test your solution here"
   ]
  },
  {
   "cell_type": "markdown",
   "metadata": {},
   "source": [
    "*Exercise 11:* (Advanced / Challenge) Develop a version of the game where one player is the computer. Note that you don't need to do an extensive seach for the best move. You can have the computer simply protect against loosing and otherwise try to win with straight or diagonal patterns."
   ]
  },
  {
   "cell_type": "code",
   "execution_count": null,
   "metadata": {
    "collapsed": true
   },
   "outputs": [],
   "source": [
    "# Write you solution here"
   ]
  },
  {
   "cell_type": "code",
   "execution_count": null,
   "metadata": {
    "collapsed": true
   },
   "outputs": [],
   "source": [
    "# Test your solution here"
   ]
  }
 ],
 "metadata": {
  "kernelspec": {
   "display_name": "Python 3 (ipykernel)",
   "language": "python",
   "name": "python3"
  },
  "language_info": {
   "codemirror_mode": {
    "name": "ipython",
    "version": 3
   },
   "file_extension": ".py",
   "mimetype": "text/x-python",
   "name": "python",
   "nbconvert_exporter": "python",
   "pygments_lexer": "ipython3",
   "version": "3.9.13"
  }
 },
 "nbformat": 4,
 "nbformat_minor": 2
}
