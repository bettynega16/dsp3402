{
 "cells": [
  {
   "cell_type": "markdown",
   "id": "0670f3c3-222c-42a8-af3a-d3c8774c791f",
   "metadata": {},
   "source": [
    "**Quiz 2**"
   ]
  },
  {
   "cell_type": "markdown",
   "id": "fc947ce9-8f8d-4bb1-bb3d-753489c2a86a",
   "metadata": {},
   "source": [
    "Write a function make_deck that returns a list of all of the cards in a standard card deck. The return should be a list of tuples of pairs of suit and value. For example the 10 of Clubs would be ('Clubs', 10) and Queen of Hearts would be ('Hearts', 'Queen'). Recall that a deck has 52 cards, divided into 4 suits (Clubs, Diamonds, Hearts, and Spades), and that each suit has 13 cards: 2 to 10, Jack, Queen, King, and Ace. Summit your solution with Lab 2."
   ]
  },
  {
   "cell_type": "code",
   "execution_count": 3,
   "id": "8a238964-2863-49e3-aa97-5c31568b2236",
   "metadata": {},
   "outputs": [],
   "source": [
    "def make_deck():\n",
    "    suits = ['Clubs', 'Diamonds', 'Hearts', 'Spades']\n",
    "    values = ['2', '3', '4', '5', '6', '7', '8', '9', '10', 'Jack', 'Queen', 'King', 'Ace']\n",
    "    deck = [(suit, value) for suit in suits for value in Values]\n",
    "    return deck\n",
    "    "
   ]
  },
  {
   "cell_type": "code",
   "execution_count": null,
   "id": "92de6aad-db50-4b49-b74e-a50622c3bd99",
   "metadata": {},
   "outputs": [],
   "source": [
    "deck = make_deck()\n",
    "print(deck)"
   ]
  },
  {
   "cell_type": "code",
   "execution_count": null,
   "id": "21e0c2a7-b6ba-4625-9d1c-c2ac665a6c5b",
   "metadata": {},
   "outputs": [],
   "source": []
  }
 ],
 "metadata": {
  "kernelspec": {
   "display_name": "Python 3 (ipykernel)",
   "language": "python",
   "name": "python3"
  },
  "language_info": {
   "codemirror_mode": {
    "name": "ipython",
    "version": 3
   },
   "file_extension": ".py",
   "mimetype": "text/x-python",
   "name": "python",
   "nbconvert_exporter": "python",
   "pygments_lexer": "ipython3",
   "version": "3.10.12"
  }
 },
 "nbformat": 4,
 "nbformat_minor": 5
}
